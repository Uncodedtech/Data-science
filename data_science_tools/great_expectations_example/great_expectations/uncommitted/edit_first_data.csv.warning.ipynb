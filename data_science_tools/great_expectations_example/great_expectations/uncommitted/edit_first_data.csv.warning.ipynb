{
 "cells": [
  {
   "cell_type": "markdown",
   "source": "# Edit Your Expectation Suite\nUse this notebook to recreate and modify your expectation suite:\n\n**Expectation Suite Name**: `first_data.csv.warning`\n",
   "metadata": {
    "cell_id": "00000-c97cd42c-6623-445b-9cb2-fc4b76048774",
    "deepnote_cell_type": "markdown"
   }
  },
  {
   "cell_type": "code",
   "metadata": {
    "ExecuteTime": {
     "end_time": "2021-10-07T21:01:42.399860Z",
     "start_time": "2021-10-07T21:01:40.954163Z"
    },
    "cell_id": "00001-baf84959-f7a1-49ef-a88d-30c7cfa5f77b",
    "deepnote_to_be_reexecuted": false,
    "execution_millis": 9713,
    "execution_start": 1633658616157,
    "output_cleared": true,
    "source_hash": "e71590bc",
    "tags": [],
    "deepnote_cell_type": "code"
   },
   "source": "!pip install great_expectations",
   "execution_count": null,
   "outputs": []
  },
  {
   "cell_type": "code",
   "metadata": {
    "ExecuteTime": {
     "end_time": "2021-10-07T21:01:43.445398Z",
     "start_time": "2021-10-07T21:01:42.401921Z"
    },
    "cell_id": "00001-b2fc0ec2-93ad-462d-bf0b-a50eff7f98b8",
    "deepnote_to_be_reexecuted": false,
    "execution_millis": 10316,
    "execution_start": 1633658629234,
    "source_hash": "2e564970",
    "deepnote_cell_type": "code"
   },
   "source": "import datetime\n\nimport pandas as pd\n\nimport great_expectations as ge\nimport great_expectations.jupyter_ux\nfrom great_expectations.core.batch import BatchRequest\nfrom great_expectations.checkpoint import SimpleCheckpoint\nfrom great_expectations.exceptions import DataContextError\n\ncontext = ge.data_context.DataContext()\n\n# Note that if you modify this batch request, you may save the new version as a .json file\n#  to pass in later via the --batch-request option\nbatch_request = {'datasource_name': 'first_data', 'data_connector_name': 'default_inferred_data_connector_name', 'data_asset_name': 'first_data.csv', 'limit': 1000}\n\n\n# Feel free to change the name of your suite here. Renaming this will not remove the other one.\nexpectation_suite_name = \"first_data.csv.warning\"\ntry:\n    suite = context.get_expectation_suite(expectation_suite_name=expectation_suite_name)\n    print(f'Loaded ExpectationSuite \"{suite.expectation_suite_name}\" containing {len(suite.expectations)} expectations.')\nexcept DataContextError:\n    suite = context.create_expectation_suite(expectation_suite_name=expectation_suite_name)\n    print(f'Created ExpectationSuite \"{suite.expectation_suite_name}\".')\n\n\nvalidator = context.get_validator(\n    batch_request=BatchRequest(**batch_request),\n    expectation_suite_name=expectation_suite_name\n)\ncolumn_names = [f'\"{column_name}\"' for column_name in validator.columns()]\nprint(f\"Columns: {', '.join(column_names)}.\")\nvalidator.head(n_rows=5, fetch_all=False)",
   "execution_count": null,
   "outputs": [
    {
     "name": "stdout",
     "text": "2021-10-08T02:03:55+0000 - INFO - Great Expectations logging enabled at 20 level by JupyterUX module.\n/root/venv/lib/python3.7/site-packages/great_expectations/jupyter_ux/__init__.py:15: FutureWarning: Passing a negative integer is deprecated in version 1.0 and will not be supported in future version. Instead, use None to not limit the column width.\n  pd.set_option(\"display.max_colwidth\", -1)\nLoaded ExpectationSuite \"first_data.csv.warning\" containing 38 expectations.\nColumns: \"Unnamed: 0\", \"Daily Time Spent on Site\", \"Age\", \"Area Income\", \"Daily Internet Usage\", \"Ad Topic Line\", \"City\", \"Male\", \"Country\", \"Timestamp\", \"Clicked on Ad\".\n",
     "output_type": "stream"
    },
    {
     "output_type": "execute_result",
     "execution_count": 3,
     "data": {
      "application/vnd.deepnote.dataframe.v2+json": {
       "row_count": 5,
       "column_count": 11,
       "columns": [
        {
         "name": "Unnamed: 0",
         "dtype": "int64",
         "stats": {
          "unique_count": 5,
          "nan_count": 0,
          "min": "0",
          "max": "4",
          "histogram": [
           {
            "bin_start": 0,
            "bin_end": 0.4,
            "count": 1
           },
           {
            "bin_start": 0.4,
            "bin_end": 0.8,
            "count": 0
           },
           {
            "bin_start": 0.8,
            "bin_end": 1.2000000000000002,
            "count": 1
           },
           {
            "bin_start": 1.2000000000000002,
            "bin_end": 1.6,
            "count": 0
           },
           {
            "bin_start": 1.6,
            "bin_end": 2,
            "count": 0
           },
           {
            "bin_start": 2,
            "bin_end": 2.4000000000000004,
            "count": 1
           },
           {
            "bin_start": 2.4000000000000004,
            "bin_end": 2.8000000000000003,
            "count": 0
           },
           {
            "bin_start": 2.8000000000000003,
            "bin_end": 3.2,
            "count": 1
           },
           {
            "bin_start": 3.2,
            "bin_end": 3.6,
            "count": 0
           },
           {
            "bin_start": 3.6,
            "bin_end": 4,
            "count": 1
           }
          ]
         }
        },
        {
         "name": "Daily Time Spent on Site",
         "dtype": "float64",
         "stats": {
          "unique_count": 5,
          "nan_count": 0,
          "min": "36.56",
          "max": "80.94",
          "histogram": [
           {
            "bin_start": 36.56,
            "bin_end": 40.998000000000005,
            "count": 1
           },
           {
            "bin_start": 40.998000000000005,
            "bin_end": 45.436,
            "count": 0
           },
           {
            "bin_start": 45.436,
            "bin_end": 49.874,
            "count": 0
           },
           {
            "bin_start": 49.874,
            "bin_end": 54.312,
            "count": 0
           },
           {
            "bin_start": 54.312,
            "bin_end": 58.75,
            "count": 0
           },
           {
            "bin_start": 58.75,
            "bin_end": 63.188,
            "count": 0
           },
           {
            "bin_start": 63.188,
            "bin_end": 67.626,
            "count": 0
           },
           {
            "bin_start": 67.626,
            "bin_end": 72.064,
            "count": 1
           },
           {
            "bin_start": 72.064,
            "bin_end": 76.50200000000001,
            "count": 0
           },
           {
            "bin_start": 76.50200000000001,
            "bin_end": 80.94,
            "count": 3
           }
          ]
         }
        },
        {
         "name": "Age",
         "dtype": "int64",
         "stats": {
          "unique_count": 5,
          "nan_count": 0,
          "min": "25",
          "max": "36",
          "histogram": [
           {
            "bin_start": 25,
            "bin_end": 26.1,
            "count": 1
           },
           {
            "bin_start": 26.1,
            "bin_end": 27.2,
            "count": 0
           },
           {
            "bin_start": 27.2,
            "bin_end": 28.3,
            "count": 1
           },
           {
            "bin_start": 28.3,
            "bin_end": 29.4,
            "count": 1
           },
           {
            "bin_start": 29.4,
            "bin_end": 30.5,
            "count": 0
           },
           {
            "bin_start": 30.5,
            "bin_end": 31.6,
            "count": 0
           },
           {
            "bin_start": 31.6,
            "bin_end": 32.7,
            "count": 0
           },
           {
            "bin_start": 32.7,
            "bin_end": 33.8,
            "count": 0
           },
           {
            "bin_start": 33.8,
            "bin_end": 34.9,
            "count": 1
           },
           {
            "bin_start": 34.9,
            "bin_end": 36,
            "count": 1
           }
          ]
         }
        },
        {
         "name": "Area Income",
         "dtype": "float64",
         "stats": {
          "unique_count": 5,
          "nan_count": 0,
          "min": "42838.29",
          "max": "68357.96",
          "histogram": [
           {
            "bin_start": 42838.29,
            "bin_end": 45390.257,
            "count": 1
           },
           {
            "bin_start": 45390.257,
            "bin_end": 47942.224,
            "count": 0
           },
           {
            "bin_start": 47942.224,
            "bin_end": 50494.191000000006,
            "count": 0
           },
           {
            "bin_start": 50494.191000000006,
            "bin_end": 53046.158,
            "count": 0
           },
           {
            "bin_start": 53046.158,
            "bin_end": 55598.125,
            "count": 0
           },
           {
            "bin_start": 55598.125,
            "bin_end": 58150.092000000004,
            "count": 0
           },
           {
            "bin_start": 58150.092000000004,
            "bin_end": 60702.05900000001,
            "count": 1
           },
           {
            "bin_start": 60702.05900000001,
            "bin_end": 63254.026000000005,
            "count": 1
           },
           {
            "bin_start": 63254.026000000005,
            "bin_end": 65805.993,
            "count": 1
           },
           {
            "bin_start": 65805.993,
            "bin_end": 68357.96,
            "count": 1
           }
          ]
         }
        },
        {
         "name": "Daily Internet Usage",
         "dtype": "float64",
         "stats": {
          "unique_count": 5,
          "nan_count": 0,
          "min": "188.32",
          "max": "239.94",
          "histogram": [
           {
            "bin_start": 188.32,
            "bin_end": 193.482,
            "count": 1
           },
           {
            "bin_start": 193.482,
            "bin_end": 198.644,
            "count": 1
           },
           {
            "bin_start": 198.644,
            "bin_end": 203.80599999999998,
            "count": 0
           },
           {
            "bin_start": 203.80599999999998,
            "bin_end": 208.968,
            "count": 0
           },
           {
            "bin_start": 208.968,
            "bin_end": 214.13,
            "count": 1
           },
           {
            "bin_start": 214.13,
            "bin_end": 219.292,
            "count": 0
           },
           {
            "bin_start": 219.292,
            "bin_end": 224.454,
            "count": 0
           },
           {
            "bin_start": 224.454,
            "bin_end": 229.61599999999999,
            "count": 0
           },
           {
            "bin_start": 229.61599999999999,
            "bin_end": 234.778,
            "count": 0
           },
           {
            "bin_start": 234.778,
            "bin_end": 239.94,
            "count": 2
           }
          ]
         }
        },
        {
         "name": "Ad Topic Line",
         "dtype": "object",
         "stats": {
          "unique_count": 5,
          "nan_count": 0,
          "categories": [
           {
            "name": "Seamless impactful info-mediaries",
            "count": 1
           },
           {
            "name": "Ameliorated actuating workforce",
            "count": 1
           },
           {
            "name": "3 others",
            "count": 3
           }
          ]
         }
        },
        {
         "name": "City",
         "dtype": "object",
         "stats": {
          "unique_count": 5,
          "nan_count": 0,
          "categories": [
           {
            "name": "Jamesville",
            "count": 1
           },
           {
            "name": "Kaylashire",
            "count": 1
           },
           {
            "name": "3 others",
            "count": 3
           }
          ]
         }
        },
        {
         "name": "Male",
         "dtype": "int64",
         "stats": {
          "unique_count": 2,
          "nan_count": 0,
          "min": "0",
          "max": "1",
          "histogram": [
           {
            "bin_start": 0,
            "bin_end": 0.1,
            "count": 4
           },
           {
            "bin_start": 0.1,
            "bin_end": 0.2,
            "count": 0
           },
           {
            "bin_start": 0.2,
            "bin_end": 0.30000000000000004,
            "count": 0
           },
           {
            "bin_start": 0.30000000000000004,
            "bin_end": 0.4,
            "count": 0
           },
           {
            "bin_start": 0.4,
            "bin_end": 0.5,
            "count": 0
           },
           {
            "bin_start": 0.5,
            "bin_end": 0.6000000000000001,
            "count": 0
           },
           {
            "bin_start": 0.6000000000000001,
            "bin_end": 0.7000000000000001,
            "count": 0
           },
           {
            "bin_start": 0.7000000000000001,
            "bin_end": 0.8,
            "count": 0
           },
           {
            "bin_start": 0.8,
            "bin_end": 0.9,
            "count": 0
           },
           {
            "bin_start": 0.9,
            "bin_end": 1,
            "count": 1
           }
          ]
         }
        },
        {
         "name": "Country",
         "dtype": "object",
         "stats": {
          "unique_count": 5,
          "nan_count": 0,
          "categories": [
           {
            "name": "Portugal",
            "count": 1
           },
           {
            "name": "Afghanistan",
            "count": 1
           },
           {
            "name": "3 others",
            "count": 3
           }
          ]
         }
        },
        {
         "name": "Timestamp",
         "dtype": "object",
         "stats": {
          "unique_count": 5,
          "nan_count": 0,
          "categories": [
           {
            "name": "2016-01-01 02:52:10",
            "count": 1
           },
           {
            "name": "2016-01-01 03:35:35",
            "count": 1
           },
           {
            "name": "3 others",
            "count": 3
           }
          ]
         }
        },
        {
         "name": "Clicked on Ad",
         "dtype": "int64",
         "stats": {
          "unique_count": 2,
          "nan_count": 0,
          "min": "0",
          "max": "1",
          "histogram": [
           {
            "bin_start": 0,
            "bin_end": 0.1,
            "count": 4
           },
           {
            "bin_start": 0.1,
            "bin_end": 0.2,
            "count": 0
           },
           {
            "bin_start": 0.2,
            "bin_end": 0.30000000000000004,
            "count": 0
           },
           {
            "bin_start": 0.30000000000000004,
            "bin_end": 0.4,
            "count": 0
           },
           {
            "bin_start": 0.4,
            "bin_end": 0.5,
            "count": 0
           },
           {
            "bin_start": 0.5,
            "bin_end": 0.6000000000000001,
            "count": 0
           },
           {
            "bin_start": 0.6000000000000001,
            "bin_end": 0.7000000000000001,
            "count": 0
           },
           {
            "bin_start": 0.7000000000000001,
            "bin_end": 0.8,
            "count": 0
           },
           {
            "bin_start": 0.8,
            "bin_end": 0.9,
            "count": 0
           },
           {
            "bin_start": 0.9,
            "bin_end": 1,
            "count": 1
           }
          ]
         }
        },
        {
         "name": "_deepnote_index_column",
         "dtype": "int64"
        }
       ],
       "rows_top": [
        {
         "Unnamed: 0": 0,
         "Daily Time Spent on Site": 80.67,
         "Age": 34,
         "Area Income": 58909.36,
         "Daily Internet Usage": 239.76,
         "Ad Topic Line": "Seamless impactful info-mediaries",
         "City": "Jamesville",
         "Male": 0,
         "Country": "Portugal",
         "Timestamp": "2016-01-01 02:52:10",
         "Clicked on Ad": 0,
         "_deepnote_index_column": 0
        },
        {
         "Unnamed: 0": 1,
         "Daily Time Spent on Site": 68.01,
         "Age": 25,
         "Area Income": 68357.96,
         "Daily Internet Usage": 188.32,
         "Ad Topic Line": "Ameliorated actuating workforce",
         "City": "Kaylashire",
         "Male": 1,
         "Country": "Afghanistan",
         "Timestamp": "2016-01-01 03:35:35",
         "Clicked on Ad": 0,
         "_deepnote_index_column": 1
        },
        {
         "Unnamed: 0": 2,
         "Daily Time Spent on Site": 80.94,
         "Age": 36,
         "Area Income": 60803,
         "Daily Internet Usage": 239.94,
         "Ad Topic Line": "Self-enabling local strategy",
         "City": "North Tiffany",
         "Male": 0,
         "Country": "Bermuda",
         "Timestamp": "2016-01-01 05:31:22",
         "Clicked on Ad": 0,
         "_deepnote_index_column": 2
        },
        {
         "Unnamed: 0": 3,
         "Daily Time Spent on Site": 78.77,
         "Age": 28,
         "Area Income": 63497.62,
         "Daily Internet Usage": 211.83,
         "Ad Topic Line": "Public-key intangible Graphical User Interface",
         "City": "Gomezport",
         "Male": 0,
         "Country": "Guam",
         "Timestamp": "2016-01-01 08:27:06",
         "Clicked on Ad": 0,
         "_deepnote_index_column": 3
        },
        {
         "Unnamed: 0": 4,
         "Daily Time Spent on Site": 36.56,
         "Age": 29,
         "Area Income": 42838.29,
         "Daily Internet Usage": 195.89,
         "Ad Topic Line": "Team-oriented bi-directional secured line",
         "City": "West Ryan",
         "Male": 0,
         "Country": "Uganda",
         "Timestamp": "2016-01-01 15:14:24",
         "Clicked on Ad": 1,
         "_deepnote_index_column": 4
        }
       ],
       "rows_bottom": null
      },
      "text/plain": "   Unnamed: 0  Daily Time Spent on Site  Age  Area Income  \\\n0  0           80.67                     34   58909.36      \n1  1           68.01                     25   68357.96      \n2  2           80.94                     36   60803.00      \n3  3           78.77                     28   63497.62      \n4  4           36.56                     29   42838.29      \n\n   Daily Internet Usage                                   Ad Topic Line  \\\n0  239.76                Seamless impactful info-mediaries                \n1  188.32                Ameliorated actuating workforce                  \n2  239.94                Self-enabling local strategy                     \n3  211.83                Public-key intangible Graphical User Interface   \n4  195.89                Team-oriented bi-directional secured line        \n\n            City  Male      Country            Timestamp  Clicked on Ad  \n0  Jamesville     0     Portugal     2016-01-01 02:52:10  0              \n1  Kaylashire     1     Afghanistan  2016-01-01 03:35:35  0              \n2  North Tiffany  0     Bermuda      2016-01-01 05:31:22  0              \n3  Gomezport      0     Guam         2016-01-01 08:27:06  0              \n4  West Ryan      0     Uganda       2016-01-01 15:14:24  1              ",
      "text/html": "<div>\n<style scoped>\n    .dataframe tbody tr th:only-of-type {\n        vertical-align: middle;\n    }\n\n    .dataframe tbody tr th {\n        vertical-align: top;\n    }\n\n    .dataframe thead th {\n        text-align: right;\n    }\n</style>\n<table border=\"1\" class=\"dataframe\">\n  <thead>\n    <tr style=\"text-align: right;\">\n      <th></th>\n      <th>Unnamed: 0</th>\n      <th>Daily Time Spent on Site</th>\n      <th>Age</th>\n      <th>Area Income</th>\n      <th>Daily Internet Usage</th>\n      <th>Ad Topic Line</th>\n      <th>City</th>\n      <th>Male</th>\n      <th>Country</th>\n      <th>Timestamp</th>\n      <th>Clicked on Ad</th>\n    </tr>\n  </thead>\n  <tbody>\n    <tr>\n      <th>0</th>\n      <td>0</td>\n      <td>80.67</td>\n      <td>34</td>\n      <td>58909.36</td>\n      <td>239.76</td>\n      <td>Seamless impactful info-mediaries</td>\n      <td>Jamesville</td>\n      <td>0</td>\n      <td>Portugal</td>\n      <td>2016-01-01 02:52:10</td>\n      <td>0</td>\n    </tr>\n    <tr>\n      <th>1</th>\n      <td>1</td>\n      <td>68.01</td>\n      <td>25</td>\n      <td>68357.96</td>\n      <td>188.32</td>\n      <td>Ameliorated actuating workforce</td>\n      <td>Kaylashire</td>\n      <td>1</td>\n      <td>Afghanistan</td>\n      <td>2016-01-01 03:35:35</td>\n      <td>0</td>\n    </tr>\n    <tr>\n      <th>2</th>\n      <td>2</td>\n      <td>80.94</td>\n      <td>36</td>\n      <td>60803.00</td>\n      <td>239.94</td>\n      <td>Self-enabling local strategy</td>\n      <td>North Tiffany</td>\n      <td>0</td>\n      <td>Bermuda</td>\n      <td>2016-01-01 05:31:22</td>\n      <td>0</td>\n    </tr>\n    <tr>\n      <th>3</th>\n      <td>3</td>\n      <td>78.77</td>\n      <td>28</td>\n      <td>63497.62</td>\n      <td>211.83</td>\n      <td>Public-key intangible Graphical User Interface</td>\n      <td>Gomezport</td>\n      <td>0</td>\n      <td>Guam</td>\n      <td>2016-01-01 08:27:06</td>\n      <td>0</td>\n    </tr>\n    <tr>\n      <th>4</th>\n      <td>4</td>\n      <td>36.56</td>\n      <td>29</td>\n      <td>42838.29</td>\n      <td>195.89</td>\n      <td>Team-oriented bi-directional secured line</td>\n      <td>West Ryan</td>\n      <td>0</td>\n      <td>Uganda</td>\n      <td>2016-01-01 15:14:24</td>\n      <td>1</td>\n    </tr>\n  </tbody>\n</table>\n</div>"
     },
     "metadata": {}
    }
   ]
  },
  {
   "cell_type": "markdown",
   "source": "## Create & Edit Expectations\n\n\nAdd expectations by calling specific expectation methods on the `validator` object. They all begin with `.expect_` which makes autocompleting easy using tab.\n\nBecause you selected interactive mode, you are now creating or editing an Expectation Suite with validator feedback from the sample batch of data that you specified (see `batch_request`).\n\nNote that if you select manual mode you may still create or edit an Expectation Suite directly, without feedback from the `validator`. See our documentation for more info and examples: [How to create a new Expectation Suite without a sample batch](https://docs.greatexpectations.io/en/latest/guides/how_to_guides/creating_and_editing_expectations/how_to_create_a_new_expectation_suite_without_a_sample_batch.html).\n\n\n\nYou can see all the available expectations in the **[expectation glossary](https://docs.greatexpectations.io/en/latest/reference/glossary_of_expectations.html?utm_source=notebook&utm_medium=create_expectations)**.",
   "metadata": {
    "cell_id": "00002-42d6b63c-af89-4625-a3c4-e9c72a845c8a",
    "deepnote_cell_type": "markdown"
   }
  },
  {
   "cell_type": "markdown",
   "source": "### Table Expectation(s)",
   "metadata": {
    "cell_id": "00003-21c6181f-e931-4d38-bba7-f96a8e0708c4",
    "deepnote_cell_type": "markdown"
   }
  },
  {
   "cell_type": "code",
   "metadata": {
    "ExecuteTime": {
     "end_time": "2021-10-07T21:01:43.451642Z",
     "start_time": "2021-10-07T21:01:43.446373Z"
    },
    "allow_embed": "code_output",
    "cell_id": "00004-c52e00b0-7305-4040-91bf-162db1be695b",
    "deepnote_to_be_reexecuted": false,
    "execution_millis": 13,
    "execution_start": 1633658656219,
    "source_hash": "75df2c55",
    "deepnote_cell_type": "code"
   },
   "source": "validator.expect_table_columns_to_match_ordered_list(column_list=['Unnamed: 0', 'Daily Time Spent on Site', 'Age', 'Area Income', 'Daily Internet Usage', 'Ad Topic Line', 'City', 'Male', 'Country', 'Timestamp', 'Clicked on Ad'])",
   "execution_count": null,
   "outputs": [
    {
     "output_type": "execute_result",
     "execution_count": 4,
     "data": {
      "text/plain": "{\n  \"result\": {\n    \"observed_value\": [\n      \"Unnamed: 0\",\n      \"Daily Time Spent on Site\",\n      \"Age\",\n      \"Area Income\",\n      \"Daily Internet Usage\",\n      \"Ad Topic Line\",\n      \"City\",\n      \"Male\",\n      \"Country\",\n      \"Timestamp\",\n      \"Clicked on Ad\"\n    ]\n  },\n  \"exception_info\": {\n    \"raised_exception\": false,\n    \"exception_traceback\": null,\n    \"exception_message\": null\n  },\n  \"success\": true,\n  \"meta\": {}\n}"
     },
     "metadata": {}
    }
   ]
  },
  {
   "cell_type": "markdown",
   "source": "### Column Expectation(s)",
   "metadata": {
    "cell_id": "00006-ce261b34-5f27-4a51-8d67-96220d8e073d",
    "deepnote_cell_type": "markdown"
   }
  },
  {
   "cell_type": "markdown",
   "source": "#### `Daily Time Spent on Site`",
   "metadata": {
    "cell_id": "00007-e33ee7e3-3fea-4b39-9d8e-fd9a8433fcb6",
    "deepnote_cell_type": "markdown"
   }
  },
  {
   "cell_type": "code",
   "metadata": {
    "ExecuteTime": {
     "end_time": "2021-10-07T21:01:43.458916Z",
     "start_time": "2021-10-07T21:01:43.453288Z"
    },
    "cell_id": "00008-9c585708-fdc1-4b7a-a5d6-1ab7ea9ec2f0",
    "deepnote_to_be_reexecuted": false,
    "execution_millis": 205,
    "execution_start": 1633637797067,
    "source_hash": "1c8e8add",
    "tags": [],
    "allow_embed": "code_output",
    "deepnote_cell_type": "code"
   },
   "source": "validator.active_batch.data.dataframe['Daily Time Spent on Site'].describe()",
   "execution_count": null,
   "outputs": [
    {
     "data": {
      "text/plain": "count    610.000000\nmean     65.267049 \nstd      15.852992 \nmin      32.600000 \n25%      51.515000 \n50%      68.330000 \n75%      78.525000 \nmax      91.370000 \nName: Daily Time Spent on Site, dtype: float64"
     },
     "execution_count": 4,
     "metadata": {},
     "output_type": "execute_result"
    }
   ]
  },
  {
   "cell_type": "code",
   "metadata": {
    "ExecuteTime": {
     "end_time": "2021-10-07T21:01:43.700520Z",
     "start_time": "2021-10-07T21:01:43.459809Z"
    },
    "cell_id": "00009-978f12b1-c36b-45e3-bd14-dee2b0f5b187",
    "deepnote_to_be_reexecuted": false,
    "execution_millis": 1916,
    "execution_start": 1633637798644,
    "source_hash": "9faa1a0",
    "tags": [],
    "allow_embed": "code_output",
    "deepnote_cell_type": "code"
   },
   "source": "validator.active_batch.data.dataframe['Daily Time Spent on Site'].plot.hist()",
   "execution_count": null,
   "outputs": [
    {
     "data": {
      "text/plain": "<AxesSubplot:ylabel='Frequency'>"
     },
     "execution_count": 5,
     "metadata": {},
     "output_type": "execute_result"
    },
    {
     "data": {
      "image/png": "[encoded data removed]",
      "text/plain": "<Figure size 432x288 with 1 Axes>"
     },
     "metadata": {
      "needs_background": "light",
      "image/png": {
       "width": 389,
       "height": 248
      }
     },
     "output_type": "display_data"
    }
   ]
  },
  {
   "cell_type": "code",
   "metadata": {
    "ExecuteTime": {
     "end_time": "2021-10-07T21:01:43.721516Z",
     "start_time": "2021-10-07T21:01:43.701370Z"
    },
    "cell_id": "00008-2562a60f-4cc8-46b8-8a2c-614346e49ee3",
    "deepnote_to_be_reexecuted": false,
    "execution_millis": 51,
    "execution_start": 1633637800997,
    "source_hash": "5bc4d2f7",
    "deepnote_cell_type": "code"
   },
   "source": "validator.expect_column_min_to_be_between(column='Daily Time Spent on Site', max_value=40, min_value=30)",
   "execution_count": null,
   "outputs": [
    {
     "data": {
      "application/vnd.jupyter.widget-view+json": {
       "model_id": "1926a0cb62a04ef681adf5badcd087f6",
       "version_major": 2,
       "version_minor": 0
      },
      "text/plain": "Calculating Metrics:   0%|          | 0/3 [00:00<?, ?it/s]"
     },
     "metadata": {},
     "output_type": "display_data"
    },
    {
     "data": {
      "text/plain": "{\n  \"result\": {\n    \"observed_value\": 32.6\n  },\n  \"meta\": {},\n  \"success\": true,\n  \"exception_info\": {\n    \"raised_exception\": false,\n    \"exception_traceback\": null,\n    \"exception_message\": null\n  }\n}"
     },
     "execution_count": 6,
     "metadata": {},
     "output_type": "execute_result"
    }
   ]
  },
  {
   "cell_type": "code",
   "metadata": {
    "ExecuteTime": {
     "end_time": "2021-10-07T21:01:43.742619Z",
     "start_time": "2021-10-07T21:01:43.722242Z"
    },
    "cell_id": "00009-9def640d-b7e9-46fe-8073-190e5d662881",
    "deepnote_to_be_reexecuted": false,
    "execution_millis": 62,
    "execution_start": 1633637805472,
    "source_hash": "e02158fb",
    "deepnote_cell_type": "code"
   },
   "source": "validator.expect_column_max_to_be_between(column='Daily Time Spent on Site', max_value=100, min_value=85)",
   "execution_count": null,
   "outputs": [
    {
     "data": {
      "application/vnd.jupyter.widget-view+json": {
       "model_id": "6c283932611646598c89d7d1a39acfdb",
       "version_major": 2,
       "version_minor": 0
      },
      "text/plain": "Calculating Metrics:   0%|          | 0/3 [00:00<?, ?it/s]"
     },
     "metadata": {},
     "output_type": "display_data"
    },
    {
     "data": {
      "text/plain": "{\n  \"result\": {\n    \"observed_value\": 91.37\n  },\n  \"meta\": {},\n  \"success\": true,\n  \"exception_info\": {\n    \"raised_exception\": false,\n    \"exception_traceback\": null,\n    \"exception_message\": null\n  }\n}"
     },
     "execution_count": 7,
     "metadata": {},
     "output_type": "execute_result"
    }
   ]
  },
  {
   "cell_type": "code",
   "metadata": {
    "ExecuteTime": {
     "end_time": "2021-10-07T21:01:43.763185Z",
     "start_time": "2021-10-07T21:01:43.743357Z"
    },
    "cell_id": "00010-245697e5-e54f-42af-9935-34753301cdc9",
    "deepnote_to_be_reexecuted": false,
    "execution_millis": 66,
    "execution_start": 1633637809172,
    "source_hash": "6de11e6d",
    "deepnote_cell_type": "code"
   },
   "source": "validator.expect_column_mean_to_be_between(column='Daily Time Spent on Site', max_value=70, min_value=55)",
   "execution_count": null,
   "outputs": [
    {
     "data": {
      "application/vnd.jupyter.widget-view+json": {
       "model_id": "3b3a742d55314daba741f3db765097b7",
       "version_major": 2,
       "version_minor": 0
      },
      "text/plain": "Calculating Metrics:   0%|          | 0/3 [00:00<?, ?it/s]"
     },
     "metadata": {},
     "output_type": "display_data"
    },
    {
     "data": {
      "text/plain": "{\n  \"result\": {\n    \"observed_value\": 65.26704918032787\n  },\n  \"meta\": {},\n  \"success\": true,\n  \"exception_info\": {\n    \"raised_exception\": false,\n    \"exception_traceback\": null,\n    \"exception_message\": null\n  }\n}"
     },
     "execution_count": 8,
     "metadata": {},
     "output_type": "execute_result"
    }
   ]
  },
  {
   "cell_type": "code",
   "metadata": {
    "ExecuteTime": {
     "end_time": "2021-10-07T21:01:43.793655Z",
     "start_time": "2021-10-07T21:01:43.764057Z"
    },
    "cell_id": "00013-58b209f3-f5ec-4883-b410-113afefac338",
    "deepnote_to_be_reexecuted": false,
    "execution_millis": 93,
    "execution_start": 1633637811317,
    "source_hash": "fb571e28",
    "deepnote_cell_type": "code"
   },
   "source": "validator.expect_column_values_to_not_be_null(column='Daily Time Spent on Site')",
   "execution_count": null,
   "outputs": [
    {
     "data": {
      "application/vnd.jupyter.widget-view+json": {
       "model_id": "446a0b29ce944b73b78b458420e9978b",
       "version_major": 2,
       "version_minor": 0
      },
      "text/plain": "Calculating Metrics:   0%|          | 0/6 [00:00<?, ?it/s]"
     },
     "metadata": {},
     "output_type": "display_data"
    },
    {
     "data": {
      "text/plain": "{\n  \"result\": {\n    \"element_count\": 610,\n    \"unexpected_count\": 0,\n    \"unexpected_percent\": 0.0,\n    \"partial_unexpected_list\": []\n  },\n  \"meta\": {},\n  \"success\": true,\n  \"exception_info\": {\n    \"raised_exception\": false,\n    \"exception_traceback\": null,\n    \"exception_message\": null\n  }\n}"
     },
     "execution_count": 9,
     "metadata": {},
     "output_type": "execute_result"
    }
   ]
  },
  {
   "cell_type": "code",
   "metadata": {
    "ExecuteTime": {
     "end_time": "2021-10-07T21:01:43.803485Z",
     "start_time": "2021-10-07T21:01:43.796459Z"
    },
    "cell_id": "00015-d8654f56-4f52-4ff0-8c55-754f7c913093",
    "deepnote_to_be_reexecuted": false,
    "execution_millis": 25,
    "execution_start": 1633637813538,
    "source_hash": "d5286636",
    "deepnote_cell_type": "code"
   },
   "source": "validator.expect_column_values_to_be_in_type_list(column='Daily Time Spent on Site', type_list=['FLOAT', 'FLOAT4', 'FLOAT8', 'FLOAT64', 'DOUBLE', 'DOUBLE_PRECISION', 'NUMERIC', 'FloatType', 'DoubleType', 'float_', 'float16', 'float32', 'float64', 'number', 'DECIMAL', 'REAL'])",
   "execution_count": null,
   "outputs": [
    {
     "data": {
      "text/plain": "{\n  \"result\": {\n    \"observed_value\": \"float64\"\n  },\n  \"meta\": {},\n  \"success\": true,\n  \"exception_info\": {\n    \"raised_exception\": false,\n    \"exception_traceback\": null,\n    \"exception_message\": null\n  }\n}"
     },
     "execution_count": 10,
     "metadata": {},
     "output_type": "execute_result"
    }
   ]
  },
  {
   "cell_type": "markdown",
   "source": "#### `Age`",
   "metadata": {
    "cell_id": "00016-56c7a22d-4b91-4c35-be63-6d79d4096f20",
    "deepnote_cell_type": "markdown"
   }
  },
  {
   "cell_type": "code",
   "metadata": {
    "ExecuteTime": {
     "end_time": "2021-10-07T21:01:43.809014Z",
     "start_time": "2021-10-07T21:01:43.804275Z"
    },
    "cell_id": "00016-b6e4abd4-fc4d-42da-89a3-e79bdd67f639",
    "deepnote_to_be_reexecuted": false,
    "execution_millis": 33,
    "execution_start": 1633659311539,
    "source_hash": "f8b3e26",
    "tags": [],
    "deepnote_cell_type": "code"
   },
   "source": "validator.active_batch.data.dataframe['Age'].describe()",
   "execution_count": null,
   "outputs": [
    {
     "output_type": "execute_result",
     "execution_count": 5,
     "data": {
      "text/plain": "count    610.000000\nmean     36.050820 \nstd      8.918296  \nmin      19.000000 \n25%      29.000000 \n50%      35.000000 \n75%      42.000000 \nmax      61.000000 \nName: Age, dtype: float64"
     },
     "metadata": {}
    }
   ]
  },
  {
   "cell_type": "code",
   "metadata": {
    "ExecuteTime": {
     "end_time": "2021-10-07T21:01:43.829337Z",
     "start_time": "2021-10-07T21:01:43.809855Z"
    },
    "cell_id": "00017-d5ede672-8c11-4446-b753-e2c178d745f1",
    "deepnote_to_be_reexecuted": false,
    "execution_millis": 19,
    "execution_start": 1633659317300,
    "source_hash": "d5184475",
    "deepnote_cell_type": "code"
   },
   "source": "validator.expect_column_min_to_be_between(column='Age', max_value=23, min_value=15)",
   "execution_count": null,
   "outputs": [
    {
     "data": {
      "text/plain": "Calculating Metrics:   0%|          | 0/3 [00:00<?, ?it/s]",
      "application/vnd.jupyter.widget-view+json": {
       "version_major": 2,
       "version_minor": 0,
       "model_id": "a31387552fa64582b35f294770f40d74"
      }
     },
     "metadata": {},
     "output_type": "display_data"
    },
    {
     "output_type": "execute_result",
     "execution_count": 6,
     "data": {
      "text/plain": "{\n  \"result\": {\n    \"observed_value\": 19\n  },\n  \"exception_info\": {\n    \"raised_exception\": false,\n    \"exception_traceback\": null,\n    \"exception_message\": null\n  },\n  \"success\": true,\n  \"meta\": {}\n}"
     },
     "metadata": {}
    }
   ]
  },
  {
   "cell_type": "code",
   "metadata": {
    "ExecuteTime": {
     "end_time": "2021-10-07T21:01:43.849361Z",
     "start_time": "2021-10-07T21:01:43.830195Z"
    },
    "cell_id": "00018-53d40c68-2a71-4834-9fa5-6651ee74a390",
    "deepnote_to_be_reexecuted": false,
    "execution_millis": 25,
    "execution_start": 1633659320199,
    "source_hash": "30577458",
    "deepnote_cell_type": "code"
   },
   "source": "\nvalidator.expect_column_max_to_be_between(column='Age', max_value=70, min_value=57)",
   "execution_count": null,
   "outputs": [
    {
     "data": {
      "text/plain": "Calculating Metrics:   0%|          | 0/3 [00:00<?, ?it/s]",
      "application/vnd.jupyter.widget-view+json": {
       "version_major": 2,
       "version_minor": 0,
       "model_id": "874555974a33483a96f2e121e2290f93"
      }
     },
     "metadata": {},
     "output_type": "display_data"
    },
    {
     "output_type": "execute_result",
     "execution_count": 7,
     "data": {
      "text/plain": "{\n  \"result\": {\n    \"observed_value\": 61\n  },\n  \"exception_info\": {\n    \"raised_exception\": false,\n    \"exception_traceback\": null,\n    \"exception_message\": null\n  },\n  \"success\": true,\n  \"meta\": {}\n}"
     },
     "metadata": {}
    }
   ]
  },
  {
   "cell_type": "code",
   "metadata": {
    "ExecuteTime": {
     "end_time": "2021-10-07T21:01:43.870046Z",
     "start_time": "2021-10-07T21:01:43.850362Z"
    },
    "cell_id": "00019-385c5fd5-f0ed-4b89-a412-d4aa3c0ee496",
    "deepnote_to_be_reexecuted": false,
    "execution_millis": 25,
    "execution_start": 1633659323621,
    "source_hash": "534d2ffe",
    "deepnote_cell_type": "code"
   },
   "source": "validator.expect_column_mean_to_be_between(column='Age', max_value=40, min_value=30)",
   "execution_count": null,
   "outputs": [
    {
     "data": {
      "text/plain": "Calculating Metrics:   0%|          | 0/3 [00:00<?, ?it/s]",
      "application/vnd.jupyter.widget-view+json": {
       "version_major": 2,
       "version_minor": 0,
       "model_id": "011247f64a8d4616bd656a48bf4c103a"
      }
     },
     "metadata": {},
     "output_type": "display_data"
    },
    {
     "output_type": "execute_result",
     "execution_count": 8,
     "data": {
      "text/plain": "{\n  \"result\": {\n    \"observed_value\": 36.05081967213115\n  },\n  \"exception_info\": {\n    \"raised_exception\": false,\n    \"exception_traceback\": null,\n    \"exception_message\": null\n  },\n  \"success\": true,\n  \"meta\": {}\n}"
     },
     "metadata": {}
    }
   ]
  },
  {
   "cell_type": "code",
   "metadata": {
    "ExecuteTime": {
     "end_time": "2021-10-07T21:01:43.895213Z",
     "start_time": "2021-10-07T21:01:43.870839Z"
    },
    "cell_id": "00023-e6668ec5-815b-44b6-8f0b-a3351cd945bc",
    "deepnote_to_be_reexecuted": false,
    "execution_millis": 38,
    "execution_start": 1633637819080,
    "source_hash": "f415c27d",
    "deepnote_cell_type": "code"
   },
   "source": "validator.expect_column_values_to_not_be_null(column='Age')",
   "execution_count": null,
   "outputs": [
    {
     "data": {
      "application/vnd.jupyter.widget-view+json": {
       "model_id": "ded38be5d9b64df58e7e7cce285d1849",
       "version_major": 2,
       "version_minor": 0
      },
      "text/plain": "Calculating Metrics:   0%|          | 0/6 [00:00<?, ?it/s]"
     },
     "metadata": {},
     "output_type": "display_data"
    },
    {
     "data": {
      "text/plain": "{\n  \"result\": {\n    \"element_count\": 610,\n    \"unexpected_count\": 0,\n    \"unexpected_percent\": 0.0,\n    \"partial_unexpected_list\": []\n  },\n  \"meta\": {},\n  \"success\": true,\n  \"exception_info\": {\n    \"raised_exception\": false,\n    \"exception_traceback\": null,\n    \"exception_message\": null\n  }\n}"
     },
     "execution_count": 15,
     "metadata": {},
     "output_type": "execute_result"
    }
   ]
  },
  {
   "cell_type": "code",
   "metadata": {
    "ExecuteTime": {
     "end_time": "2021-10-07T21:01:43.901410Z",
     "start_time": "2021-10-07T21:01:43.895967Z"
    },
    "cell_id": "00025-3b572ced-67bd-4bb9-bf59-3a24a5a66b86",
    "deepnote_to_be_reexecuted": false,
    "execution_millis": 8,
    "execution_start": 1633659404414,
    "source_hash": "5b528787",
    "deepnote_cell_type": "code"
   },
   "source": "validator.expect_column_values_to_be_in_type_list(column='Age', type_list=['INTEGER', 'integer', 'int', 'int_', 'int8', 'int16', 'int32', 'int64', 'uint8', 'uint16', 'uint32', 'uint64', 'INT', 'INTEGER', 'INT64', 'TINYINT', 'BYTEINT', 'SMALLINT', 'BIGINT', 'IntegerType', 'LongType'])",
   "execution_count": null,
   "outputs": [
    {
     "output_type": "execute_result",
     "execution_count": 9,
     "data": {
      "text/plain": "{\n  \"result\": {\n    \"observed_value\": \"int64\"\n  },\n  \"exception_info\": {\n    \"raised_exception\": false,\n    \"exception_traceback\": null,\n    \"exception_message\": null\n  },\n  \"success\": true,\n  \"meta\": {}\n}"
     },
     "metadata": {}
    }
   ]
  },
  {
   "cell_type": "markdown",
   "source": "#### `Area Income`",
   "metadata": {
    "cell_id": "00026-5184d599-e2f9-454e-a9f6-9f98e0ac43ee",
    "deepnote_cell_type": "markdown"
   }
  },
  {
   "cell_type": "code",
   "metadata": {
    "ExecuteTime": {
     "end_time": "2021-10-07T21:01:43.907152Z",
     "start_time": "2021-10-07T21:01:43.902356Z"
    },
    "cell_id": "00024-0eabd10e-2b13-4d21-b7f9-cfd9259672ba",
    "deepnote_to_be_reexecuted": false,
    "execution_millis": 18,
    "execution_start": 1633659407612,
    "source_hash": "1917a650",
    "tags": [],
    "deepnote_cell_type": "code"
   },
   "source": "validator.active_batch.data.dataframe['Area Income'].describe()",
   "execution_count": null,
   "outputs": [
    {
     "output_type": "execute_result",
     "execution_count": 10,
     "data": {
      "text/plain": "count    610.000000  \nmean     55365.620951\nstd      12992.334779\nmin      14548.060000\n25%      47688.815000\n50%      57532.600000\n75%      65101.792500\nmax      79484.800000\nName: Area Income, dtype: float64"
     },
     "metadata": {}
    }
   ]
  },
  {
   "cell_type": "code",
   "metadata": {
    "ExecuteTime": {
     "end_time": "2021-10-07T21:01:43.928129Z",
     "start_time": "2021-10-07T21:01:43.908003Z"
    },
    "cell_id": "00027-5463e33f-b852-4d1e-bc44-a53e2b6eb9aa",
    "deepnote_to_be_reexecuted": false,
    "execution_millis": 47,
    "execution_start": 1633659412713,
    "source_hash": "f9feacc9",
    "deepnote_cell_type": "code"
   },
   "source": "validator.expect_column_min_to_be_between(column='Area Income', max_value=15000, min_value=12000)",
   "execution_count": null,
   "outputs": [
    {
     "data": {
      "text/plain": "Calculating Metrics:   0%|          | 0/3 [00:00<?, ?it/s]",
      "application/vnd.jupyter.widget-view+json": {
       "version_major": 2,
       "version_minor": 0,
       "model_id": "7ba5f5132ffb42c8afdf3d76392a29ac"
      }
     },
     "metadata": {},
     "output_type": "display_data"
    },
    {
     "output_type": "execute_result",
     "execution_count": 11,
     "data": {
      "text/plain": "{\n  \"result\": {\n    \"observed_value\": 14548.06\n  },\n  \"exception_info\": {\n    \"raised_exception\": false,\n    \"exception_traceback\": null,\n    \"exception_message\": null\n  },\n  \"success\": true,\n  \"meta\": {}\n}"
     },
     "metadata": {}
    }
   ]
  },
  {
   "cell_type": "code",
   "metadata": {
    "ExecuteTime": {
     "end_time": "2021-10-07T21:01:43.948529Z",
     "start_time": "2021-10-07T21:01:43.929006Z"
    },
    "cell_id": "00028-30dd8eee-7a3d-4025-8771-5ae16ec1b921",
    "deepnote_to_be_reexecuted": false,
    "execution_millis": 22,
    "execution_start": 1633659425035,
    "source_hash": "d0371464",
    "deepnote_cell_type": "code"
   },
   "source": "validator.expect_column_max_to_be_between(column='Area Income', max_value=80000, min_value=70000)",
   "execution_count": null,
   "outputs": [
    {
     "data": {
      "text/plain": "Calculating Metrics:   0%|          | 0/3 [00:00<?, ?it/s]",
      "application/vnd.jupyter.widget-view+json": {
       "version_major": 2,
       "version_minor": 0,
       "model_id": "11ce1bb92fe84356977b92f32de35e90"
      }
     },
     "metadata": {},
     "output_type": "display_data"
    },
    {
     "output_type": "execute_result",
     "execution_count": 12,
     "data": {
      "text/plain": "{\n  \"result\": {\n    \"observed_value\": 79484.8\n  },\n  \"exception_info\": {\n    \"raised_exception\": false,\n    \"exception_traceback\": null,\n    \"exception_message\": null\n  },\n  \"success\": true,\n  \"meta\": {}\n}"
     },
     "metadata": {}
    }
   ]
  },
  {
   "cell_type": "code",
   "metadata": {
    "ExecuteTime": {
     "end_time": "2021-10-07T21:01:43.969822Z",
     "start_time": "2021-10-07T21:01:43.949363Z"
    },
    "cell_id": "00029-a373c1c3-10c5-4be2-b084-6f5ecb2a75bc",
    "deepnote_to_be_reexecuted": false,
    "execution_millis": 58,
    "execution_start": 1633659426387,
    "source_hash": "51159596",
    "deepnote_cell_type": "code"
   },
   "source": "validator.expect_column_mean_to_be_between(column='Area Income', max_value=65000, min_value=54000)",
   "execution_count": null,
   "outputs": [
    {
     "data": {
      "text/plain": "Calculating Metrics:   0%|          | 0/3 [00:00<?, ?it/s]",
      "application/vnd.jupyter.widget-view+json": {
       "version_major": 2,
       "version_minor": 0,
       "model_id": "81a3946024064573a177f4870560432e"
      }
     },
     "metadata": {},
     "output_type": "display_data"
    },
    {
     "output_type": "execute_result",
     "execution_count": 13,
     "data": {
      "text/plain": "{\n  \"result\": {\n    \"observed_value\": 55365.62095081966\n  },\n  \"exception_info\": {\n    \"raised_exception\": false,\n    \"exception_traceback\": null,\n    \"exception_message\": null\n  },\n  \"success\": true,\n  \"meta\": {}\n}"
     },
     "metadata": {}
    }
   ]
  },
  {
   "cell_type": "code",
   "metadata": {
    "ExecuteTime": {
     "end_time": "2021-10-07T21:01:43.994167Z",
     "start_time": "2021-10-07T21:01:43.970702Z"
    },
    "cell_id": "00032-4a9c7b47-c19b-4dcf-a765-6f9025f9326b",
    "deepnote_to_be_reexecuted": false,
    "execution_millis": 83,
    "execution_start": 1633637825855,
    "source_hash": "2e6b9aec",
    "deepnote_cell_type": "code"
   },
   "source": "validator.expect_column_values_to_not_be_null(column='Area Income')",
   "execution_count": null,
   "outputs": [
    {
     "data": {
      "application/vnd.jupyter.widget-view+json": {
       "model_id": "6023d6a93cf4453baabe83afc009b3f2",
       "version_major": 2,
       "version_minor": 0
      },
      "text/plain": "Calculating Metrics:   0%|          | 0/6 [00:00<?, ?it/s]"
     },
     "metadata": {},
     "output_type": "display_data"
    },
    {
     "data": {
      "text/plain": "{\n  \"result\": {\n    \"element_count\": 610,\n    \"unexpected_count\": 0,\n    \"unexpected_percent\": 0.0,\n    \"partial_unexpected_list\": []\n  },\n  \"meta\": {},\n  \"success\": true,\n  \"exception_info\": {\n    \"raised_exception\": false,\n    \"exception_traceback\": null,\n    \"exception_message\": null\n  }\n}"
     },
     "execution_count": 21,
     "metadata": {},
     "output_type": "execute_result"
    }
   ]
  },
  {
   "cell_type": "code",
   "metadata": {
    "ExecuteTime": {
     "end_time": "2021-10-07T21:01:43.999466Z",
     "start_time": "2021-10-07T21:01:43.994972Z"
    },
    "cell_id": "00034-a25d60c7-ffc7-451f-b991-aa762c1dcf65",
    "deepnote_to_be_reexecuted": false,
    "execution_millis": 5,
    "execution_start": 1633637826198,
    "source_hash": "4a4b791b",
    "deepnote_cell_type": "code"
   },
   "source": "validator.expect_column_values_to_be_in_type_list(column='Area Income', type_list=['FLOAT', 'FLOAT4', 'FLOAT8', 'FLOAT64', 'DOUBLE', 'DOUBLE_PRECISION', 'NUMERIC', 'FloatType', 'DoubleType', 'float_', 'float16', 'float32', 'float64', 'number', 'DECIMAL', 'REAL'])",
   "execution_count": null,
   "outputs": [
    {
     "data": {
      "text/plain": "{\n  \"result\": {\n    \"observed_value\": \"float64\"\n  },\n  \"meta\": {},\n  \"success\": true,\n  \"exception_info\": {\n    \"raised_exception\": false,\n    \"exception_traceback\": null,\n    \"exception_message\": null\n  }\n}"
     },
     "execution_count": 22,
     "metadata": {},
     "output_type": "execute_result"
    }
   ]
  },
  {
   "cell_type": "markdown",
   "source": "#### `Daily Internet Usage`",
   "metadata": {
    "cell_id": "00035-24b826c0-a2e2-4385-8a0e-b6f228b626d3",
    "deepnote_cell_type": "markdown"
   }
  },
  {
   "cell_type": "code",
   "metadata": {
    "ExecuteTime": {
     "end_time": "2021-10-07T21:01:44.019905Z",
     "start_time": "2021-10-07T21:01:44.000410Z"
    },
    "cell_id": "00036-0853f172-4376-4c69-8d4a-e0c5de42f1ca",
    "deepnote_to_be_reexecuted": false,
    "execution_millis": 98,
    "execution_start": 1633637827511,
    "source_hash": "bd474f46",
    "deepnote_cell_type": "code"
   },
   "source": "validator.expect_column_min_to_be_between(column='Daily Internet Usage', max_value=110, min_value=95)",
   "execution_count": null,
   "outputs": [
    {
     "data": {
      "application/vnd.jupyter.widget-view+json": {
       "model_id": "682c6d7416a1429fa89be3c81848b59a",
       "version_major": 2,
       "version_minor": 0
      },
      "text/plain": "Calculating Metrics:   0%|          | 0/3 [00:00<?, ?it/s]"
     },
     "metadata": {},
     "output_type": "display_data"
    },
    {
     "data": {
      "text/plain": "{\n  \"result\": {\n    \"observed_value\": 105.0\n  },\n  \"meta\": {},\n  \"success\": true,\n  \"exception_info\": {\n    \"raised_exception\": false,\n    \"exception_traceback\": null,\n    \"exception_message\": null\n  }\n}"
     },
     "execution_count": 23,
     "metadata": {},
     "output_type": "execute_result"
    }
   ]
  },
  {
   "cell_type": "code",
   "metadata": {
    "ExecuteTime": {
     "end_time": "2021-10-07T21:01:44.039599Z",
     "start_time": "2021-10-07T21:01:44.020601Z"
    },
    "cell_id": "00037-9110f47d-9522-4fb5-8c8a-1b6b6acea785",
    "deepnote_to_be_reexecuted": false,
    "execution_millis": 64,
    "execution_start": 1633637828086,
    "source_hash": "285abc24",
    "deepnote_cell_type": "code"
   },
   "source": "\nvalidator.expect_column_max_to_be_between(column='Daily Internet Usage', max_value=270, min_value=250)",
   "execution_count": null,
   "outputs": [
    {
     "data": {
      "application/vnd.jupyter.widget-view+json": {
       "model_id": "f5d0161be1b14fc3a6b60a6a6727eb03",
       "version_major": 2,
       "version_minor": 0
      },
      "text/plain": "Calculating Metrics:   0%|          | 0/3 [00:00<?, ?it/s]"
     },
     "metadata": {},
     "output_type": "display_data"
    },
    {
     "data": {
      "text/plain": "{\n  \"result\": {\n    \"observed_value\": 269.96\n  },\n  \"meta\": {},\n  \"success\": true,\n  \"exception_info\": {\n    \"raised_exception\": false,\n    \"exception_traceback\": null,\n    \"exception_message\": null\n  }\n}"
     },
     "execution_count": 24,
     "metadata": {},
     "output_type": "execute_result"
    }
   ]
  },
  {
   "cell_type": "code",
   "metadata": {
    "ExecuteTime": {
     "end_time": "2021-10-07T21:01:44.068282Z",
     "start_time": "2021-10-07T21:01:44.040966Z"
    },
    "cell_id": "00038-d43a16e4-8993-4e78-bc02-a610ea5afbba",
    "deepnote_to_be_reexecuted": false,
    "execution_millis": 69,
    "execution_start": 1633637828756,
    "source_hash": "70cbbf18",
    "deepnote_cell_type": "code"
   },
   "source": "validator.expect_column_mean_to_be_between(column='Daily Internet Usage', max_value=185, min_value=170)",
   "execution_count": null,
   "outputs": [
    {
     "data": {
      "application/vnd.jupyter.widget-view+json": {
       "model_id": "bb211061849a4f0c83f25a754fd65574",
       "version_major": 2,
       "version_minor": 0
      },
      "text/plain": "Calculating Metrics:   0%|          | 0/3 [00:00<?, ?it/s]"
     },
     "metadata": {},
     "output_type": "display_data"
    },
    {
     "data": {
      "text/plain": "{\n  \"result\": {\n    \"observed_value\": 179.4397868852459\n  },\n  \"meta\": {},\n  \"success\": true,\n  \"exception_info\": {\n    \"raised_exception\": false,\n    \"exception_traceback\": null,\n    \"exception_message\": null\n  }\n}"
     },
     "execution_count": 25,
     "metadata": {},
     "output_type": "execute_result"
    }
   ]
  },
  {
   "cell_type": "code",
   "metadata": {
    "ExecuteTime": {
     "end_time": "2021-10-07T21:01:44.103312Z",
     "start_time": "2021-10-07T21:01:44.069345Z"
    },
    "cell_id": "00041-9d0de7dc-d3cf-43ed-a214-8723b54bfcaf",
    "deepnote_to_be_reexecuted": false,
    "execution_millis": 107,
    "execution_start": 1633637830375,
    "source_hash": "53a9889a",
    "deepnote_cell_type": "code"
   },
   "source": "\nvalidator.expect_column_values_to_not_be_null(column='Daily Internet Usage')",
   "execution_count": null,
   "outputs": [
    {
     "data": {
      "application/vnd.jupyter.widget-view+json": {
       "model_id": "305f455d2ad34612a2d4de665cabd257",
       "version_major": 2,
       "version_minor": 0
      },
      "text/plain": "Calculating Metrics:   0%|          | 0/6 [00:00<?, ?it/s]"
     },
     "metadata": {},
     "output_type": "display_data"
    },
    {
     "data": {
      "text/plain": "{\n  \"result\": {\n    \"element_count\": 610,\n    \"unexpected_count\": 0,\n    \"unexpected_percent\": 0.0,\n    \"partial_unexpected_list\": []\n  },\n  \"meta\": {},\n  \"success\": true,\n  \"exception_info\": {\n    \"raised_exception\": false,\n    \"exception_traceback\": null,\n    \"exception_message\": null\n  }\n}"
     },
     "execution_count": 26,
     "metadata": {},
     "output_type": "execute_result"
    }
   ]
  },
  {
   "cell_type": "code",
   "metadata": {
    "ExecuteTime": {
     "end_time": "2021-10-07T21:01:44.109982Z",
     "start_time": "2021-10-07T21:01:44.104491Z"
    },
    "cell_id": "00043-edc7d4db-c534-4ebe-95ee-b1143f0e91c3",
    "deepnote_to_be_reexecuted": false,
    "execution_millis": 15,
    "execution_start": 1633637830866,
    "source_hash": "ed46a9cc",
    "deepnote_cell_type": "code"
   },
   "source": "validator.expect_column_values_to_be_in_type_list(column='Daily Internet Usage', type_list=['FLOAT', 'FLOAT4', 'FLOAT8', 'FLOAT64', 'DOUBLE', 'DOUBLE_PRECISION', 'NUMERIC', 'FloatType', 'DoubleType', 'float_', 'float16', 'float32', 'float64', 'number', 'DECIMAL', 'REAL'])",
   "execution_count": null,
   "outputs": [
    {
     "data": {
      "text/plain": "{\n  \"result\": {\n    \"observed_value\": \"float64\"\n  },\n  \"meta\": {},\n  \"success\": true,\n  \"exception_info\": {\n    \"raised_exception\": false,\n    \"exception_traceback\": null,\n    \"exception_message\": null\n  }\n}"
     },
     "execution_count": 27,
     "metadata": {},
     "output_type": "execute_result"
    }
   ]
  },
  {
   "cell_type": "markdown",
   "source": "#### `Ad Topic Line`",
   "metadata": {
    "cell_id": "00044-d20ec7cf-5bb7-4956-b5c6-80d94d570353",
    "deepnote_cell_type": "markdown"
   }
  },
  {
   "cell_type": "code",
   "metadata": {
    "ExecuteTime": {
     "end_time": "2021-10-07T21:01:44.135337Z",
     "start_time": "2021-10-07T21:01:44.112058Z"
    },
    "cell_id": "00045-3726d70b-8e66-45cc-9bf3-8878f75a9aae",
    "deepnote_to_be_reexecuted": false,
    "execution_millis": 101,
    "execution_start": 1633637833439,
    "source_hash": "294b4416",
    "deepnote_cell_type": "code"
   },
   "source": "validator.expect_column_values_to_not_be_null(column='Ad Topic Line')",
   "execution_count": null,
   "outputs": [
    {
     "data": {
      "application/vnd.jupyter.widget-view+json": {
       "model_id": "8363fcd6ec774773be5c491fb1e6f700",
       "version_major": 2,
       "version_minor": 0
      },
      "text/plain": "Calculating Metrics:   0%|          | 0/6 [00:00<?, ?it/s]"
     },
     "metadata": {},
     "output_type": "display_data"
    },
    {
     "data": {
      "text/plain": "{\n  \"result\": {\n    \"element_count\": 610,\n    \"unexpected_count\": 0,\n    \"unexpected_percent\": 0.0,\n    \"partial_unexpected_list\": []\n  },\n  \"meta\": {},\n  \"success\": true,\n  \"exception_info\": {\n    \"raised_exception\": false,\n    \"exception_traceback\": null,\n    \"exception_message\": null\n  }\n}"
     },
     "execution_count": 28,
     "metadata": {},
     "output_type": "execute_result"
    }
   ]
  },
  {
   "cell_type": "code",
   "metadata": {
    "ExecuteTime": {
     "end_time": "2021-10-07T21:01:44.163477Z",
     "start_time": "2021-10-07T21:01:44.136147Z"
    },
    "cell_id": "00047-6e0c983d-dce1-4b2f-b947-4f8d91b38e67",
    "deepnote_to_be_reexecuted": false,
    "execution_millis": 111,
    "execution_start": 1633637834866,
    "source_hash": "13424311",
    "deepnote_cell_type": "code"
   },
   "source": "validator.expect_column_values_to_be_in_type_list(column='Ad Topic Line', type_list=['CHAR', 'NCHAR', 'VARCHAR', 'NVARCHAR', 'TEXT', 'NTEXT', 'STRING', 'StringType', 'string', 'str', 'object', \"dtype('O')\"])",
   "execution_count": null,
   "outputs": [
    {
     "data": {
      "application/vnd.jupyter.widget-view+json": {
       "model_id": "fde561649299469da90775746eb425da",
       "version_major": 2,
       "version_minor": 0
      },
      "text/plain": "Calculating Metrics:   0%|          | 0/8 [00:00<?, ?it/s]"
     },
     "metadata": {},
     "output_type": "display_data"
    },
    {
     "data": {
      "text/plain": "{\n  \"result\": {\n    \"element_count\": 610,\n    \"unexpected_count\": 0,\n    \"unexpected_percent\": 0.0,\n    \"partial_unexpected_list\": [],\n    \"missing_count\": 0,\n    \"missing_percent\": 0.0,\n    \"unexpected_percent_total\": 0.0,\n    \"unexpected_percent_nonmissing\": 0.0\n  },\n  \"meta\": {},\n  \"success\": true,\n  \"exception_info\": {\n    \"raised_exception\": false,\n    \"exception_traceback\": null,\n    \"exception_message\": null\n  }\n}"
     },
     "execution_count": 29,
     "metadata": {},
     "output_type": "execute_result"
    }
   ]
  },
  {
   "cell_type": "markdown",
   "source": "#### `City`",
   "metadata": {
    "cell_id": "00048-2d4a944a-0b19-46e3-abd2-e34cca085368",
    "deepnote_cell_type": "markdown"
   }
  },
  {
   "cell_type": "code",
   "metadata": {
    "ExecuteTime": {
     "end_time": "2021-10-07T21:01:44.187838Z",
     "start_time": "2021-10-07T21:01:44.164338Z"
    },
    "cell_id": "00049-3a23789e-607e-4ecb-8351-8da0736007b8",
    "deepnote_to_be_reexecuted": false,
    "execution_millis": 90,
    "execution_start": 1633637835600,
    "source_hash": "d1e21fa3",
    "deepnote_cell_type": "code"
   },
   "source": "validator.expect_column_values_to_not_be_null(column='City')",
   "execution_count": null,
   "outputs": [
    {
     "data": {
      "application/vnd.jupyter.widget-view+json": {
       "model_id": "ce9f7bac97f448c4a2c146c9764dda12",
       "version_major": 2,
       "version_minor": 0
      },
      "text/plain": "Calculating Metrics:   0%|          | 0/6 [00:00<?, ?it/s]"
     },
     "metadata": {},
     "output_type": "display_data"
    },
    {
     "data": {
      "text/plain": "{\n  \"result\": {\n    \"element_count\": 610,\n    \"unexpected_count\": 0,\n    \"unexpected_percent\": 0.0,\n    \"partial_unexpected_list\": []\n  },\n  \"meta\": {},\n  \"success\": true,\n  \"exception_info\": {\n    \"raised_exception\": false,\n    \"exception_traceback\": null,\n    \"exception_message\": null\n  }\n}"
     },
     "execution_count": 30,
     "metadata": {},
     "output_type": "execute_result"
    }
   ]
  },
  {
   "cell_type": "code",
   "metadata": {
    "ExecuteTime": {
     "end_time": "2021-10-07T21:01:44.213215Z",
     "start_time": "2021-10-07T21:01:44.188644Z"
    },
    "cell_id": "00050-7f8cca05-7044-43d5-b46a-dc04fb5d0728",
    "deepnote_to_be_reexecuted": false,
    "execution_millis": 92,
    "execution_start": 1633637835887,
    "source_hash": "dc705f44",
    "allow_embed": "code",
    "deepnote_cell_type": "code"
   },
   "source": "validator.expect_column_proportion_of_unique_values_to_be_between(column='City', max_value=0.999, min_value=0.9)",
   "execution_count": null,
   "outputs": [
    {
     "data": {
      "application/vnd.jupyter.widget-view+json": {
       "model_id": "55cf220151ec44ddbad418e170599f69",
       "version_major": 2,
       "version_minor": 0
      },
      "text/plain": "Calculating Metrics:   0%|          | 0/7 [00:00<?, ?it/s]"
     },
     "metadata": {},
     "output_type": "display_data"
    },
    {
     "data": {
      "text/plain": "{\n  \"result\": {\n    \"observed_value\": 0.9819672131147541\n  },\n  \"meta\": {},\n  \"success\": true,\n  \"exception_info\": {\n    \"raised_exception\": false,\n    \"exception_traceback\": null,\n    \"exception_message\": null\n  }\n}"
     },
     "execution_count": 31,
     "metadata": {},
     "output_type": "execute_result"
    }
   ]
  },
  {
   "cell_type": "code",
   "metadata": {
    "ExecuteTime": {
     "end_time": "2021-10-07T21:01:44.243338Z",
     "start_time": "2021-10-07T21:01:44.214080Z"
    },
    "cell_id": "00051-94d7e218-13ce-478a-be0e-e67007442441",
    "deepnote_to_be_reexecuted": false,
    "execution_millis": 98,
    "execution_start": 1633637836171,
    "source_hash": "3cce96fb",
    "deepnote_cell_type": "code"
   },
   "source": "validator.expect_column_values_to_be_in_type_list(column='City', type_list=['CHAR', 'NCHAR', 'VARCHAR', 'NVARCHAR', 'TEXT', 'NTEXT', 'STRING', 'StringType', 'string', 'str', 'object', \"dtype('O')\"])",
   "execution_count": null,
   "outputs": [
    {
     "data": {
      "application/vnd.jupyter.widget-view+json": {
       "model_id": "bc72bc3f4081443a956c2677ffe307be",
       "version_major": 2,
       "version_minor": 0
      },
      "text/plain": "Calculating Metrics:   0%|          | 0/8 [00:00<?, ?it/s]"
     },
     "metadata": {},
     "output_type": "display_data"
    },
    {
     "data": {
      "text/plain": "{\n  \"result\": {\n    \"element_count\": 610,\n    \"unexpected_count\": 0,\n    \"unexpected_percent\": 0.0,\n    \"partial_unexpected_list\": [],\n    \"missing_count\": 0,\n    \"missing_percent\": 0.0,\n    \"unexpected_percent_total\": 0.0,\n    \"unexpected_percent_nonmissing\": 0.0\n  },\n  \"meta\": {},\n  \"success\": true,\n  \"exception_info\": {\n    \"raised_exception\": false,\n    \"exception_traceback\": null,\n    \"exception_message\": null\n  }\n}"
     },
     "execution_count": 32,
     "metadata": {},
     "output_type": "execute_result"
    }
   ]
  },
  {
   "cell_type": "markdown",
   "source": "#### `Male`",
   "metadata": {
    "cell_id": "00052-09057f21-488d-4ffb-92cd-b72621b8f6aa",
    "deepnote_cell_type": "markdown"
   }
  },
  {
   "cell_type": "code",
   "metadata": {
    "ExecuteTime": {
     "end_time": "2021-10-07T21:01:44.249046Z",
     "start_time": "2021-10-07T21:01:44.244078Z"
    },
    "cell_id": "00043-29906644-9685-4088-9547-7b1642e967d8",
    "deepnote_to_be_reexecuted": false,
    "execution_millis": 18,
    "execution_start": 1633637836719,
    "source_hash": "9812bbd7",
    "tags": [],
    "deepnote_cell_type": "code"
   },
   "source": "validator.active_batch.data.dataframe['Male'].describe()",
   "execution_count": null,
   "outputs": [
    {
     "data": {
      "text/plain": "count    610.000000\nmean     0.485246  \nstd      0.500192  \nmin      0.000000  \n25%      0.000000  \n50%      0.000000  \n75%      1.000000  \nmax      1.000000  \nName: Male, dtype: float64"
     },
     "execution_count": 33,
     "metadata": {},
     "output_type": "execute_result"
    }
   ]
  },
  {
   "cell_type": "code",
   "metadata": {
    "ExecuteTime": {
     "end_time": "2021-10-07T21:01:44.279029Z",
     "start_time": "2021-10-07T21:01:44.249888Z"
    },
    "cell_id": "00058-f16bbab1-4fae-444d-84d1-2a74037aa9e7",
    "deepnote_to_be_reexecuted": false,
    "execution_millis": 70,
    "execution_start": 1633637837137,
    "source_hash": "2c734854",
    "deepnote_cell_type": "code"
   },
   "source": "\nvalidator.expect_column_values_to_be_in_set(column='Male', value_set=[0, 1])",
   "execution_count": null,
   "outputs": [
    {
     "data": {
      "application/vnd.jupyter.widget-view+json": {
       "model_id": "4102d4efbe974d1883c979e10b001291",
       "version_major": 2,
       "version_minor": 0
      },
      "text/plain": "Calculating Metrics:   0%|          | 0/8 [00:00<?, ?it/s]"
     },
     "metadata": {},
     "output_type": "display_data"
    },
    {
     "data": {
      "text/plain": "{\n  \"result\": {\n    \"element_count\": 610,\n    \"unexpected_count\": 0,\n    \"unexpected_percent\": 0.0,\n    \"partial_unexpected_list\": [],\n    \"missing_count\": 0,\n    \"missing_percent\": 0.0,\n    \"unexpected_percent_total\": 0.0,\n    \"unexpected_percent_nonmissing\": 0.0\n  },\n  \"meta\": {},\n  \"success\": true,\n  \"exception_info\": {\n    \"raised_exception\": false,\n    \"exception_traceback\": null,\n    \"exception_message\": null\n  }\n}"
     },
     "execution_count": 34,
     "metadata": {},
     "output_type": "execute_result"
    }
   ]
  },
  {
   "cell_type": "code",
   "metadata": {
    "ExecuteTime": {
     "end_time": "2021-10-07T21:01:44.298461Z",
     "start_time": "2021-10-07T21:01:44.279915Z"
    },
    "cell_id": "00045-65da9152-92b0-46aa-8fb1-deae608832b7",
    "deepnote_to_be_reexecuted": false,
    "execution_millis": 75,
    "execution_start": 1633637837414,
    "source_hash": "fb6e9ff1",
    "tags": [],
    "deepnote_cell_type": "code"
   },
   "source": "validator.expect_column_mean_to_be_between(column='Male', max_value=0.55, min_value=0.45)",
   "execution_count": null,
   "outputs": [
    {
     "data": {
      "application/vnd.jupyter.widget-view+json": {
       "model_id": "b7ac99c5c9534270b3fcca534b99044c",
       "version_major": 2,
       "version_minor": 0
      },
      "text/plain": "Calculating Metrics:   0%|          | 0/3 [00:00<?, ?it/s]"
     },
     "metadata": {},
     "output_type": "display_data"
    },
    {
     "data": {
      "text/plain": "{\n  \"result\": {\n    \"observed_value\": 0.4852459016393443\n  },\n  \"meta\": {},\n  \"success\": true,\n  \"exception_info\": {\n    \"raised_exception\": false,\n    \"exception_traceback\": null,\n    \"exception_message\": null\n  }\n}"
     },
     "execution_count": 35,
     "metadata": {},
     "output_type": "execute_result"
    }
   ]
  },
  {
   "cell_type": "code",
   "metadata": {
    "ExecuteTime": {
     "end_time": "2021-10-07T21:01:44.322444Z",
     "start_time": "2021-10-07T21:01:44.299312Z"
    },
    "cell_id": "00059-a090e74c-bd6f-4ea6-b726-acb377f1b6fd",
    "deepnote_to_be_reexecuted": false,
    "execution_millis": 91,
    "execution_start": 1633637838770,
    "source_hash": "6208844f",
    "deepnote_cell_type": "code"
   },
   "source": "\nvalidator.expect_column_values_to_not_be_null(column='Male')",
   "execution_count": null,
   "outputs": [
    {
     "data": {
      "application/vnd.jupyter.widget-view+json": {
       "model_id": "047a69f6c87f4d6ea97b69b22df2b7d7",
       "version_major": 2,
       "version_minor": 0
      },
      "text/plain": "Calculating Metrics:   0%|          | 0/6 [00:00<?, ?it/s]"
     },
     "metadata": {},
     "output_type": "display_data"
    },
    {
     "data": {
      "text/plain": "{\n  \"result\": {\n    \"element_count\": 610,\n    \"unexpected_count\": 0,\n    \"unexpected_percent\": 0.0,\n    \"partial_unexpected_list\": []\n  },\n  \"meta\": {},\n  \"success\": true,\n  \"exception_info\": {\n    \"raised_exception\": false,\n    \"exception_traceback\": null,\n    \"exception_message\": null\n  }\n}"
     },
     "execution_count": 36,
     "metadata": {},
     "output_type": "execute_result"
    }
   ]
  },
  {
   "cell_type": "code",
   "metadata": {
    "ExecuteTime": {
     "end_time": "2021-10-07T21:01:44.327795Z",
     "start_time": "2021-10-07T21:01:44.323135Z"
    },
    "cell_id": "00061-e2126b53-a864-4697-8e49-311bfb7483c3",
    "deepnote_to_be_reexecuted": false,
    "execution_millis": 22,
    "execution_start": 1633637839004,
    "source_hash": "78780f19",
    "deepnote_cell_type": "code"
   },
   "source": "\nvalidator.expect_column_values_to_be_in_type_list(column='Male', type_list=['INTEGER', 'integer', 'int', 'int_', 'int8', 'int16', 'int32', 'int64', 'uint8', 'uint16', 'uint32', 'uint64', 'INT', 'INTEGER', 'INT64', 'TINYINT', 'BYTEINT', 'SMALLINT', 'BIGINT', 'IntegerType', 'LongType'])",
   "execution_count": null,
   "outputs": [
    {
     "data": {
      "text/plain": "{\n  \"result\": {\n    \"observed_value\": \"int64\"\n  },\n  \"meta\": {},\n  \"success\": true,\n  \"exception_info\": {\n    \"raised_exception\": false,\n    \"exception_traceback\": null,\n    \"exception_message\": null\n  }\n}"
     },
     "execution_count": 37,
     "metadata": {},
     "output_type": "execute_result"
    }
   ]
  },
  {
   "cell_type": "markdown",
   "source": "#### `Country`",
   "metadata": {
    "cell_id": "00062-9d92b0c6-f326-4df8-9550-97725b011865",
    "deepnote_cell_type": "markdown"
   }
  },
  {
   "cell_type": "code",
   "metadata": {
    "ExecuteTime": {
     "end_time": "2021-10-07T21:01:44.352226Z",
     "start_time": "2021-10-07T21:01:44.328572Z"
    },
    "cell_id": "00063-7d419322-3ba5-4a24-a73a-d985cd417a5c",
    "deepnote_to_be_reexecuted": false,
    "execution_millis": 67,
    "execution_start": 1633637841354,
    "source_hash": "980e0b36",
    "deepnote_cell_type": "code"
   },
   "source": "\nvalidator.expect_column_values_to_not_be_null(column='Country')",
   "execution_count": null,
   "outputs": [
    {
     "data": {
      "application/vnd.jupyter.widget-view+json": {
       "model_id": "4279803245454638927d6102a15ffd08",
       "version_major": 2,
       "version_minor": 0
      },
      "text/plain": "Calculating Metrics:   0%|          | 0/6 [00:00<?, ?it/s]"
     },
     "metadata": {},
     "output_type": "display_data"
    },
    {
     "data": {
      "text/plain": "{\n  \"result\": {\n    \"element_count\": 610,\n    \"unexpected_count\": 0,\n    \"unexpected_percent\": 0.0,\n    \"partial_unexpected_list\": []\n  },\n  \"meta\": {},\n  \"success\": true,\n  \"exception_info\": {\n    \"raised_exception\": false,\n    \"exception_traceback\": null,\n    \"exception_message\": null\n  }\n}"
     },
     "execution_count": 38,
     "metadata": {},
     "output_type": "execute_result"
    }
   ]
  },
  {
   "cell_type": "code",
   "metadata": {
    "ExecuteTime": {
     "end_time": "2021-10-07T21:01:44.381904Z",
     "start_time": "2021-10-07T21:01:44.353236Z"
    },
    "cell_id": "00065-fcef4a52-15ab-48cf-a7fd-47c919f34a70",
    "deepnote_to_be_reexecuted": false,
    "execution_millis": 45,
    "execution_start": 1633637843078,
    "source_hash": "19ac0beb",
    "deepnote_cell_type": "code"
   },
   "source": "\nvalidator.expect_column_values_to_be_in_type_list(column='Country', type_list=['CHAR', 'NCHAR', 'VARCHAR', 'NVARCHAR', 'TEXT', 'NTEXT', 'STRING', 'StringType', 'string', 'str', 'object', \"dtype('O')\"])",
   "execution_count": null,
   "outputs": [
    {
     "data": {
      "application/vnd.jupyter.widget-view+json": {
       "model_id": "deee3238e26c4314b914d73afe247e46",
       "version_major": 2,
       "version_minor": 0
      },
      "text/plain": "Calculating Metrics:   0%|          | 0/8 [00:00<?, ?it/s]"
     },
     "metadata": {},
     "output_type": "display_data"
    },
    {
     "data": {
      "text/plain": "{\n  \"result\": {\n    \"element_count\": 610,\n    \"unexpected_count\": 0,\n    \"unexpected_percent\": 0.0,\n    \"partial_unexpected_list\": [],\n    \"missing_count\": 0,\n    \"missing_percent\": 0.0,\n    \"unexpected_percent_total\": 0.0,\n    \"unexpected_percent_nonmissing\": 0.0\n  },\n  \"meta\": {},\n  \"success\": true,\n  \"exception_info\": {\n    \"raised_exception\": false,\n    \"exception_traceback\": null,\n    \"exception_message\": null\n  }\n}"
     },
     "execution_count": 39,
     "metadata": {},
     "output_type": "execute_result"
    }
   ]
  },
  {
   "cell_type": "markdown",
   "source": "#### `Timestamp`",
   "metadata": {
    "cell_id": "00066-1bfbff9e-9b3e-42d4-b077-1a58f2268dee",
    "deepnote_cell_type": "markdown"
   }
  },
  {
   "cell_type": "code",
   "metadata": {
    "ExecuteTime": {
     "end_time": "2021-10-07T21:01:44.406904Z",
     "start_time": "2021-10-07T21:01:44.382854Z"
    },
    "cell_id": "00067-bbb79ef1-1f5a-4ee3-a5fb-64ce603f7402",
    "deepnote_to_be_reexecuted": false,
    "execution_millis": 53,
    "execution_start": 1633637846350,
    "source_hash": "b578a8a3",
    "deepnote_cell_type": "code"
   },
   "source": "\nvalidator.expect_column_values_to_not_be_null(column='Timestamp')",
   "execution_count": null,
   "outputs": [
    {
     "data": {
      "application/vnd.jupyter.widget-view+json": {
       "model_id": "e886c575a455455990efa344bf84d5f0",
       "version_major": 2,
       "version_minor": 0
      },
      "text/plain": "Calculating Metrics:   0%|          | 0/6 [00:00<?, ?it/s]"
     },
     "metadata": {},
     "output_type": "display_data"
    },
    {
     "data": {
      "text/plain": "{\n  \"result\": {\n    \"element_count\": 610,\n    \"unexpected_count\": 0,\n    \"unexpected_percent\": 0.0,\n    \"partial_unexpected_list\": []\n  },\n  \"meta\": {},\n  \"success\": true,\n  \"exception_info\": {\n    \"raised_exception\": false,\n    \"exception_traceback\": null,\n    \"exception_message\": null\n  }\n}"
     },
     "execution_count": 40,
     "metadata": {},
     "output_type": "execute_result"
    }
   ]
  },
  {
   "cell_type": "code",
   "metadata": {
    "ExecuteTime": {
     "end_time": "2021-10-07T21:01:44.439362Z",
     "start_time": "2021-10-07T21:01:44.407861Z"
    },
    "cell_id": "00069-bc39526a-14bf-4b7d-8eec-9cd018d7fb25",
    "deepnote_to_be_reexecuted": false,
    "execution_millis": 168,
    "execution_start": 1633637846919,
    "source_hash": "a7d02439",
    "deepnote_cell_type": "code"
   },
   "source": "\nvalidator.expect_column_values_to_be_in_type_list(column='Timestamp', type_list=['CHAR', 'NCHAR', 'VARCHAR', 'NVARCHAR', 'TEXT', 'NTEXT', 'STRING', 'StringType', 'string', 'str', 'object', \"dtype('O')\"])",
   "execution_count": null,
   "outputs": [
    {
     "data": {
      "application/vnd.jupyter.widget-view+json": {
       "model_id": "7e9d402a09254d24817636e75f00e9e7",
       "version_major": 2,
       "version_minor": 0
      },
      "text/plain": "Calculating Metrics:   0%|          | 0/8 [00:00<?, ?it/s]"
     },
     "metadata": {},
     "output_type": "display_data"
    },
    {
     "data": {
      "text/plain": "{\n  \"result\": {\n    \"element_count\": 610,\n    \"unexpected_count\": 0,\n    \"unexpected_percent\": 0.0,\n    \"partial_unexpected_list\": [],\n    \"missing_count\": 0,\n    \"missing_percent\": 0.0,\n    \"unexpected_percent_total\": 0.0,\n    \"unexpected_percent_nonmissing\": 0.0\n  },\n  \"meta\": {},\n  \"success\": true,\n  \"exception_info\": {\n    \"raised_exception\": false,\n    \"exception_traceback\": null,\n    \"exception_message\": null\n  }\n}"
     },
     "execution_count": 41,
     "metadata": {},
     "output_type": "execute_result"
    }
   ]
  },
  {
   "cell_type": "markdown",
   "source": "#### `Clicked on Ad`",
   "metadata": {
    "cell_id": "00070-2891f502-d5eb-4a90-a730-76dc2eab2efe",
    "deepnote_cell_type": "markdown"
   }
  },
  {
   "cell_type": "code",
   "metadata": {
    "ExecuteTime": {
     "end_time": "2021-10-07T21:01:44.460360Z",
     "start_time": "2021-10-07T21:01:44.440121Z"
    },
    "cell_id": "00073-5f122c94-b488-4282-880d-c4f4c30a7302",
    "deepnote_to_be_reexecuted": false,
    "execution_millis": 66,
    "execution_start": 1633637848587,
    "source_hash": "662a3af2",
    "deepnote_cell_type": "code"
   },
   "source": "\nvalidator.expect_column_mean_to_be_between(column='Clicked on Ad', max_value=0.55, min_value=0.45)",
   "execution_count": null,
   "outputs": [
    {
     "data": {
      "application/vnd.jupyter.widget-view+json": {
       "model_id": "dda0f3dee93846f297d7d5787c358a9c",
       "version_major": 2,
       "version_minor": 0
      },
      "text/plain": "Calculating Metrics:   0%|          | 0/3 [00:00<?, ?it/s]"
     },
     "metadata": {},
     "output_type": "display_data"
    },
    {
     "data": {
      "text/plain": "{\n  \"result\": {\n    \"observed_value\": 0.4918032786885246\n  },\n  \"meta\": {},\n  \"success\": true,\n  \"exception_info\": {\n    \"raised_exception\": false,\n    \"exception_traceback\": null,\n    \"exception_message\": null\n  }\n}"
     },
     "execution_count": 42,
     "metadata": {},
     "output_type": "execute_result"
    }
   ]
  },
  {
   "cell_type": "code",
   "metadata": {
    "ExecuteTime": {
     "end_time": "2021-10-07T21:01:44.488814Z",
     "start_time": "2021-10-07T21:01:44.461419Z"
    },
    "cell_id": "00076-37a42167-6dfa-4d98-bc30-e176a662e965",
    "deepnote_to_be_reexecuted": false,
    "execution_millis": 106,
    "execution_start": 1633637848885,
    "source_hash": "6a8e8875",
    "deepnote_cell_type": "code"
   },
   "source": "\nvalidator.expect_column_values_to_be_in_set(column='Clicked on Ad', value_set=[0, 1])",
   "execution_count": null,
   "outputs": [
    {
     "data": {
      "application/vnd.jupyter.widget-view+json": {
       "model_id": "57fc0c925693497c94944e5163b983e2",
       "version_major": 2,
       "version_minor": 0
      },
      "text/plain": "Calculating Metrics:   0%|          | 0/8 [00:00<?, ?it/s]"
     },
     "metadata": {},
     "output_type": "display_data"
    },
    {
     "data": {
      "text/plain": "{\n  \"result\": {\n    \"element_count\": 610,\n    \"unexpected_count\": 0,\n    \"unexpected_percent\": 0.0,\n    \"partial_unexpected_list\": [],\n    \"missing_count\": 0,\n    \"missing_percent\": 0.0,\n    \"unexpected_percent_total\": 0.0,\n    \"unexpected_percent_nonmissing\": 0.0\n  },\n  \"meta\": {},\n  \"success\": true,\n  \"exception_info\": {\n    \"raised_exception\": false,\n    \"exception_traceback\": null,\n    \"exception_message\": null\n  }\n}"
     },
     "execution_count": 43,
     "metadata": {},
     "output_type": "execute_result"
    }
   ]
  },
  {
   "cell_type": "code",
   "metadata": {
    "ExecuteTime": {
     "end_time": "2021-10-07T21:01:44.511586Z",
     "start_time": "2021-10-07T21:01:44.489678Z"
    },
    "cell_id": "00077-53155aa1-5329-4386-8b99-e0982ebb326b",
    "deepnote_to_be_reexecuted": false,
    "execution_millis": 119,
    "execution_start": 1633637849207,
    "source_hash": "2162ce0e",
    "deepnote_cell_type": "code"
   },
   "source": "\nvalidator.expect_column_values_to_not_be_null(column='Clicked on Ad')",
   "execution_count": null,
   "outputs": [
    {
     "data": {
      "application/vnd.jupyter.widget-view+json": {
       "model_id": "177f487585a74fc796f7f4c8f609e57e",
       "version_major": 2,
       "version_minor": 0
      },
      "text/plain": "Calculating Metrics:   0%|          | 0/6 [00:00<?, ?it/s]"
     },
     "metadata": {},
     "output_type": "display_data"
    },
    {
     "data": {
      "text/plain": "{\n  \"result\": {\n    \"element_count\": 610,\n    \"unexpected_count\": 0,\n    \"unexpected_percent\": 0.0,\n    \"partial_unexpected_list\": []\n  },\n  \"meta\": {},\n  \"success\": true,\n  \"exception_info\": {\n    \"raised_exception\": false,\n    \"exception_traceback\": null,\n    \"exception_message\": null\n  }\n}"
     },
     "execution_count": 44,
     "metadata": {},
     "output_type": "execute_result"
    }
   ]
  },
  {
   "cell_type": "code",
   "metadata": {
    "ExecuteTime": {
     "end_time": "2021-10-07T21:01:44.517511Z",
     "start_time": "2021-10-07T21:01:44.512399Z"
    },
    "cell_id": "00079-cc422c78-4e27-476c-b5cc-268dc831a908",
    "deepnote_to_be_reexecuted": false,
    "execution_millis": 17,
    "execution_start": 1633637850661,
    "source_hash": "1a6c766f",
    "deepnote_cell_type": "code"
   },
   "source": "\nvalidator.expect_column_values_to_be_in_type_list(column='Clicked on Ad', type_list=['INTEGER', 'integer', 'int', 'int_', 'int8', 'int16', 'int32', 'int64', 'uint8', 'uint16', 'uint32', 'uint64', 'INT', 'INTEGER', 'INT64', 'TINYINT', 'BYTEINT', 'SMALLINT', 'BIGINT', 'IntegerType', 'LongType'])",
   "execution_count": null,
   "outputs": [
    {
     "data": {
      "text/plain": "{\n  \"result\": {\n    \"observed_value\": \"int64\"\n  },\n  \"meta\": {},\n  \"success\": true,\n  \"exception_info\": {\n    \"raised_exception\": false,\n    \"exception_traceback\": null,\n    \"exception_message\": null\n  }\n}"
     },
     "execution_count": 45,
     "metadata": {},
     "output_type": "execute_result"
    }
   ]
  },
  {
   "cell_type": "markdown",
   "source": "## Save & Review Your Expectations\n\nLet's save the expectation suite as a JSON file in the `great_expectations/expectations` directory of your project.\n\nLet's now rebuild your Data Docs, which helps you communicate about your data with both machines and humans.",
   "metadata": {
    "cell_id": "00080-6275e6a6-4298-46db-a4bf-c421d77799c7",
    "deepnote_cell_type": "markdown"
   }
  },
  {
   "cell_type": "code",
   "metadata": {
    "ExecuteTime": {
     "end_time": "2021-10-07T21:01:45.552179Z",
     "start_time": "2021-10-07T21:01:44.518401Z"
    },
    "cell_id": "00081-a2a2dd46-043f-4df1-8303-35d530c2ec89",
    "deepnote_to_be_reexecuted": false,
    "execution_millis": 3788,
    "execution_start": 1633637852431,
    "source_hash": "b6830c36",
    "deepnote_cell_type": "code"
   },
   "source": "print(validator.get_expectation_suite(discard_failed_expectations=False))\nvalidator.save_expectation_suite(discard_failed_expectations=False)\n\ncheckpoint_config = {\n    \"class_name\": \"SimpleCheckpoint\",\n    \"validations\": [\n        {\n            \"batch_request\": batch_request,\n            \"expectation_suite_name\": expectation_suite_name\n        }\n    ]\n}\ncheckpoint = SimpleCheckpoint(\n    f\"_tmp_checkpoint_{expectation_suite_name}\",\n    context,\n    **checkpoint_config\n)\ncheckpoint_result = checkpoint.run()\n\ncontext.build_data_docs()\n\nvalidation_result_identifier = checkpoint_result.list_validation_result_identifiers()[0]\ncontext.open_data_docs(resource_identifier=validation_result_identifier)",
   "execution_count": null,
   "outputs": [
    {
     "name": "stdout",
     "output_type": "stream",
     "text": "2021-10-07T16:01:44-0500 - INFO - \t38 expectation(s) included in expectation_suite.\n{\n  \"ge_cloud_id\": null,\n  \"data_asset_type\": null,\n  \"expectation_suite_name\": \"first_data.csv.warning\",\n  \"meta\": {\n    \"great_expectations_version\": \"0.13.36\"\n  },\n  \"expectations\": [\n    {\n      \"kwargs\": {\n        \"column_list\": [\n          \"Unnamed: 0\",\n          \"Daily Time Spent on Site\",\n          \"Age\",\n          \"Area Income\",\n          \"Daily Internet Usage\",\n          \"Ad Topic Line\",\n          \"City\",\n          \"Male\",\n          \"Country\",\n          \"Timestamp\",\n          \"Clicked on Ad\"\n        ]\n      },\n      \"ge_cloud_id\": null,\n      \"expectation_type\": \"expect_table_columns_to_match_ordered_list\",\n      \"meta\": {}\n    },\n    {\n      \"kwargs\": {\n        \"column\": \"Daily Time Spent on Site\",\n        \"max_value\": 40,\n        \"min_value\": 30\n      },\n      \"ge_cloud_id\": null,\n      \"expectation_type\": \"expect_column_min_to_be_between\",\n      \"meta\": {}\n    },\n    {\n      \"kwargs\": {\n        \"column\": \"Daily Time Spent on Site\",\n        \"max_value\": 100,\n        \"min_value\": 85\n      },\n      \"ge_cloud_id\": null,\n      \"expectation_type\": \"expect_column_max_to_be_between\",\n      \"meta\": {}\n    },\n    {\n      \"kwargs\": {\n        \"column\": \"Daily Time Spent on Site\",\n        \"max_value\": 70,\n        \"min_value\": 55\n      },\n      \"ge_cloud_id\": null,\n      \"expectation_type\": \"expect_column_mean_to_be_between\",\n      \"meta\": {}\n    },\n    {\n      \"kwargs\": {\n        \"column\": \"Daily Time Spent on Site\"\n      },\n      \"ge_cloud_id\": null,\n      \"expectation_type\": \"expect_column_values_to_not_be_null\",\n      \"meta\": {}\n    },\n    {\n      \"kwargs\": {\n        \"column\": \"Daily Time Spent on Site\",\n        \"type_list\": [\n          \"FLOAT\",\n          \"FLOAT4\",\n          \"FLOAT8\",\n          \"FLOAT64\",\n          \"DOUBLE\",\n          \"DOUBLE_PRECISION\",\n          \"NUMERIC\",\n          \"FloatType\",\n          \"DoubleType\",\n          \"float_\",\n          \"float16\",\n          \"float32\",\n          \"float64\",\n          \"number\",\n          \"DECIMAL\",\n          \"REAL\"\n        ]\n      },\n      \"ge_cloud_id\": null,\n      \"expectation_type\": \"expect_column_values_to_be_in_type_list\",\n      \"meta\": {}\n    },\n    {\n      \"kwargs\": {\n        \"column\": \"Age\",\n        \"max_value\": 23,\n        \"min_value\": 15\n      },\n      \"ge_cloud_id\": null,\n      \"expectation_type\": \"expect_column_min_to_be_between\",\n      \"meta\": {}\n    },\n    {\n      \"kwargs\": {\n        \"column\": \"Age\",\n        \"max_value\": 70,\n        \"min_value\": 57\n      },\n      \"ge_cloud_id\": null,\n      \"expectation_type\": \"expect_column_max_to_be_between\",\n      \"meta\": {}\n    },\n    {\n      \"kwargs\": {\n        \"column\": \"Age\",\n        \"max_value\": 40,\n        \"min_value\": 30\n      },\n      \"ge_cloud_id\": null,\n      \"expectation_type\": \"expect_column_mean_to_be_between\",\n      \"meta\": {}\n    },\n    {\n      \"kwargs\": {\n        \"column\": \"Age\"\n      },\n      \"ge_cloud_id\": null,\n      \"expectation_type\": \"expect_column_values_to_not_be_null\",\n      \"meta\": {}\n    },\n    {\n      \"kwargs\": {\n        \"column\": \"Age\",\n        \"type_list\": [\n          \"INTEGER\",\n          \"integer\",\n          \"int\",\n          \"int_\",\n          \"int8\",\n          \"int16\",\n          \"int32\",\n          \"int64\",\n          \"uint8\",\n          \"uint16\",\n          \"uint32\",\n          \"uint64\",\n          \"INT\",\n          \"INTEGER\",\n          \"INT64\",\n          \"TINYINT\",\n          \"BYTEINT\",\n          \"SMALLINT\",\n          \"BIGINT\",\n          \"IntegerType\",\n          \"LongType\"\n        ]\n      },\n      \"ge_cloud_id\": null,\n      \"expectation_type\": \"expect_column_values_to_be_in_type_list\",\n      \"meta\": {}\n    },\n    {\n      \"kwargs\": {\n        \"column\": \"Area Income\",\n        \"max_value\": 15000,\n        \"min_value\": 12000\n      },\n      \"ge_cloud_id\": null,\n      \"expectation_type\": \"expect_column_min_to_be_between\",\n      \"meta\": {}\n    },\n    {\n      \"kwargs\": {\n        \"column\": \"Area Income\",\n        \"max_value\": 80000,\n        \"min_value\": 70000\n      },\n      \"ge_cloud_id\": null,\n      \"expectation_type\": \"expect_column_max_to_be_between\",\n      \"meta\": {}\n    },\n    {\n      \"kwargs\": {\n        \"column\": \"Area Income\",\n        \"max_value\": 65000,\n        \"min_value\": 54000\n      },\n      \"ge_cloud_id\": null,\n      \"expectation_type\": \"expect_column_mean_to_be_between\",\n      \"meta\": {}\n    },\n    {\n      \"kwargs\": {\n        \"column\": \"Area Income\"\n      },\n      \"ge_cloud_id\": null,\n      \"expectation_type\": \"expect_column_values_to_not_be_null\",\n      \"meta\": {}\n    },\n    {\n      \"kwargs\": {\n        \"column\": \"Area Income\",\n        \"type_list\": [\n          \"FLOAT\",\n          \"FLOAT4\",\n          \"FLOAT8\",\n          \"FLOAT64\",\n          \"DOUBLE\",\n          \"DOUBLE_PRECISION\",\n          \"NUMERIC\",\n          \"FloatType\",\n          \"DoubleType\",\n          \"float_\",\n          \"float16\",\n          \"float32\",\n          \"float64\",\n          \"number\",\n          \"DECIMAL\",\n          \"REAL\"\n        ]\n      },\n      \"ge_cloud_id\": null,\n      \"expectation_type\": \"expect_column_values_to_be_in_type_list\",\n      \"meta\": {}\n    },\n    {\n      \"kwargs\": {\n        \"column\": \"Daily Internet Usage\",\n        \"max_value\": 110,\n        \"min_value\": 95\n      },\n      \"ge_cloud_id\": null,\n      \"expectation_type\": \"expect_column_min_to_be_between\",\n      \"meta\": {}\n    },\n    {\n      \"kwargs\": {\n        \"column\": \"Daily Internet Usage\",\n        \"max_value\": 270,\n        \"min_value\": 250\n      },\n      \"ge_cloud_id\": null,\n      \"expectation_type\": \"expect_column_max_to_be_between\",\n      \"meta\": {}\n    },\n    {\n      \"kwargs\": {\n        \"column\": \"Daily Internet Usage\",\n        \"max_value\": 185,\n        \"min_value\": 170\n      },\n      \"ge_cloud_id\": null,\n      \"expectation_type\": \"expect_column_mean_to_be_between\",\n      \"meta\": {}\n    },\n    {\n      \"kwargs\": {\n        \"column\": \"Daily Internet Usage\"\n      },\n      \"ge_cloud_id\": null,\n      \"expectation_type\": \"expect_column_values_to_not_be_null\",\n      \"meta\": {}\n    },\n    {\n      \"kwargs\": {\n        \"column\": \"Daily Internet Usage\",\n        \"type_list\": [\n          \"FLOAT\",\n          \"FLOAT4\",\n          \"FLOAT8\",\n          \"FLOAT64\",\n          \"DOUBLE\",\n          \"DOUBLE_PRECISION\",\n          \"NUMERIC\",\n          \"FloatType\",\n          \"DoubleType\",\n          \"float_\",\n          \"float16\",\n          \"float32\",\n          \"float64\",\n          \"number\",\n          \"DECIMAL\",\n          \"REAL\"\n        ]\n      },\n      \"ge_cloud_id\": null,\n      \"expectation_type\": \"expect_column_values_to_be_in_type_list\",\n      \"meta\": {}\n    },\n    {\n      \"kwargs\": {\n        \"column\": \"Ad Topic Line\"\n      },\n      \"ge_cloud_id\": null,\n      \"expectation_type\": \"expect_column_values_to_not_be_null\",\n      \"meta\": {}\n    },\n    {\n      \"kwargs\": {\n        \"column\": \"Ad Topic Line\",\n        \"type_list\": [\n          \"CHAR\",\n          \"NCHAR\",\n          \"VARCHAR\",\n          \"NVARCHAR\",\n          \"TEXT\",\n          \"NTEXT\",\n          \"STRING\",\n          \"StringType\",\n          \"string\",\n          \"str\",\n          \"object\",\n          \"dtype('O')\"\n        ]\n      },\n      \"ge_cloud_id\": null,\n      \"expectation_type\": \"expect_column_values_to_be_in_type_list\",\n      \"meta\": {}\n    },\n    {\n      \"kwargs\": {\n        \"column\": \"City\"\n      },\n      \"ge_cloud_id\": null,\n      \"expectation_type\": \"expect_column_values_to_not_be_null\",\n      \"meta\": {}\n    },\n    {\n      \"kwargs\": {\n        \"column\": \"City\",\n        \"max_value\": 0.999,\n        \"min_value\": 0.9\n      },\n      \"ge_cloud_id\": null,\n      \"expectation_type\": \"expect_column_proportion_of_unique_values_to_be_between\",\n      \"meta\": {}\n    },\n    {\n      \"kwargs\": {\n        \"column\": \"City\",\n        \"type_list\": [\n          \"CHAR\",\n          \"NCHAR\",\n          \"VARCHAR\",\n          \"NVARCHAR\",\n          \"TEXT\",\n          \"NTEXT\",\n          \"STRING\",\n          \"StringType\",\n          \"string\",\n          \"str\",\n          \"object\",\n          \"dtype('O')\"\n        ]\n      },\n      \"ge_cloud_id\": null,\n      \"expectation_type\": \"expect_column_values_to_be_in_type_list\",\n      \"meta\": {}\n    },\n    {\n      \"kwargs\": {\n        \"column\": \"Male\",\n        \"value_set\": [\n          0,\n          1\n        ]\n      },\n      \"ge_cloud_id\": null,\n      \"expectation_type\": \"expect_column_values_to_be_in_set\",\n      \"meta\": {}\n    },\n    {\n      \"kwargs\": {\n        \"column\": \"Male\",\n        \"max_value\": 0.55,\n        \"min_value\": 0.45\n      },\n      \"ge_cloud_id\": null,\n      \"expectation_type\": \"expect_column_mean_to_be_between\",\n      \"meta\": {}\n    },\n    {\n      \"kwargs\": {\n        \"column\": \"Male\"\n      },\n      \"ge_cloud_id\": null,\n      \"expectation_type\": \"expect_column_values_to_not_be_null\",\n      \"meta\": {}\n    },\n    {\n      \"kwargs\": {\n        \"column\": \"Male\",\n        \"type_list\": [\n          \"INTEGER\",\n          \"integer\",\n          \"int\",\n          \"int_\",\n          \"int8\",\n          \"int16\",\n          \"int32\",\n          \"int64\",\n          \"uint8\",\n          \"uint16\",\n          \"uint32\",\n          \"uint64\",\n          \"INT\",\n          \"INTEGER\",\n          \"INT64\",\n          \"TINYINT\",\n          \"BYTEINT\",\n          \"SMALLINT\",\n          \"BIGINT\",\n          \"IntegerType\",\n          \"LongType\"\n        ]\n      },\n      \"ge_cloud_id\": null,\n      \"expectation_type\": \"expect_column_values_to_be_in_type_list\",\n      \"meta\": {}\n    },\n    {\n      \"kwargs\": {\n        \"column\": \"Country\"\n      },\n      \"ge_cloud_id\": null,\n      \"expectation_type\": \"expect_column_values_to_not_be_null\",\n      \"meta\": {}\n    },\n    {\n      \"kwargs\": {\n        \"column\": \"Country\",\n        \"type_list\": [\n          \"CHAR\",\n          \"NCHAR\",\n          \"VARCHAR\",\n          \"NVARCHAR\",\n          \"TEXT\",\n          \"NTEXT\",\n          \"STRING\",\n          \"StringType\",\n          \"string\",\n          \"str\",\n          \"object\",\n          \"dtype('O')\"\n        ]\n      },\n      \"ge_cloud_id\": null,\n      \"expectation_type\": \"expect_column_values_to_be_in_type_list\",\n      \"meta\": {}\n    },\n    {\n      \"kwargs\": {\n        \"column\": \"Timestamp\"\n      },\n      \"ge_cloud_id\": null,\n      \"expectation_type\": \"expect_column_values_to_not_be_null\",\n      \"meta\": {}\n    },\n    {\n      \"kwargs\": {\n        \"column\": \"Timestamp\",\n        \"type_list\": [\n          \"CHAR\",\n          \"NCHAR\",\n          \"VARCHAR\",\n          \"NVARCHAR\",\n          \"TEXT\",\n          \"NTEXT\",\n          \"STRING\",\n          \"StringType\",\n          \"string\",\n          \"str\",\n          \"object\",\n          \"dtype('O')\"\n        ]\n      },\n      \"ge_cloud_id\": null,\n      \"expectation_type\": \"expect_column_values_to_be_in_type_list\",\n      \"meta\": {}\n    },\n    {\n      \"kwargs\": {\n        \"column\": \"Clicked on Ad\",\n        \"max_value\": 0.55,\n        \"min_value\": 0.45\n      },\n      \"ge_cloud_id\": null,\n      \"expectation_type\": \"expect_column_mean_to_be_between\",\n      \"meta\": {}\n    },\n    {\n      \"kwargs\": {\n        \"column\": \"Clicked on Ad\",\n        \"value_set\": [\n          0,\n          1\n        ]\n      },\n      \"ge_cloud_id\": null,\n      \"expectation_type\": \"expect_column_values_to_be_in_set\",\n      \"meta\": {}\n    },\n    {\n      \"kwargs\": {\n        \"column\": \"Clicked on Ad\"\n      },\n      \"ge_cloud_id\": null,\n      \"expectation_type\": \"expect_column_values_to_not_be_null\",\n      \"meta\": {}\n    },\n    {\n      \"kwargs\": {\n        \"column\": \"Clicked on Ad\",\n        \"type_list\": [\n          \"INTEGER\",\n          \"integer\",\n          \"int\",\n          \"int_\",\n          \"int8\",\n          \"int16\",\n          \"int32\",\n          \"int64\",\n          \"uint8\",\n          \"uint16\",\n          \"uint32\",\n          \"uint64\",\n          \"INT\",\n          \"INTEGER\",\n          \"INT64\",\n          \"TINYINT\",\n          \"BYTEINT\",\n          \"SMALLINT\",\n          \"BIGINT\",\n          \"IntegerType\",\n          \"LongType\"\n        ]\n      },\n      \"ge_cloud_id\": null,\n      \"expectation_type\": \"expect_column_values_to_be_in_type_list\",\n      \"meta\": {}\n    }\n  ]\n}\n2021-10-07T16:01:44-0500 - INFO - \t38 expectation(s) included in expectation_suite.\n"
    },
    {
     "name": "stdout",
     "output_type": "stream",
     "text": "2021-10-07T16:01:44-0500 - INFO - \t38 expectation(s) included in expectation_suite.\n"
    },
    {
     "data": {
      "application/vnd.jupyter.widget-view+json": {
       "model_id": "efe286ecd9be468aa6eede4d72bd4c38",
       "version_major": 2,
       "version_minor": 0
      },
      "text/plain": "Calculating Metrics:   0%|          | 0/67 [00:00<?, ?it/s]"
     },
     "metadata": {},
     "output_type": "display_data"
    },
    {
     "name": "stdout",
     "output_type": "stream",
     "text": "Opening in existing browser session.\n"
    }
   ]
  },
  {
   "cell_type": "markdown",
   "source": "<a style='text-decoration:none;line-height:16px;display:flex;color:#5B5B62;padding:10px;justify-content:end;' href='https://deepnote.com?utm_source=created-in-deepnote-cell&projectId=87197226-98be-42b2-8527-389082831299' target=\"_blank\">\n<img alt='Created in deepnote.com' style='display:inline;max-height:16px;margin:0px;margin-right:7.5px;' src='data:image/svg+xml;base64,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' > </img>\nCreated in <span style='font-weight:600;margin-left:4px;'>Deepnote</span></a>",
   "metadata": {
    "tags": [],
    "created_in_deepnote_cell": true,
    "deepnote_cell_type": "markdown"
   }
  }
 ],
 "nbformat": 4,
 "nbformat_minor": 5,
 "metadata": {
  "deepnote": {},
  "deepnote_execution_queue": [],
  "deepnote_notebook_id": "b98c8920-11d5-4957-9152-c6671cffbab2",
  "kernelspec": {
   "display_name": "Python 3 (ipykernel)",
   "language": "python",
   "name": "python3"
  },
  "language_info": {
   "codemirror_mode": {
    "name": "ipython",
    "version": 3
   },
   "file_extension": ".py",
   "mimetype": "text/x-python",
   "name": "python",
   "nbconvert_exporter": "python",
   "pygments_lexer": "ipython3",
   "version": "3.8.10"
  },
  "toc": {
   "base_numbering": 1,
   "nav_menu": {},
   "number_sections": true,
   "sideBar": true,
   "skip_h1_title": false,
   "title_cell": "Table of Contents",
   "title_sidebar": "Contents",
   "toc_cell": false,
   "toc_position": {},
   "toc_section_display": true,
   "toc_window_display": false
  }
 }
}